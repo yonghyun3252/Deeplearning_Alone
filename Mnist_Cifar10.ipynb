{
 "cells": [
  {
   "cell_type": "markdown",
   "metadata": {
    "id": "ML5QBpuGa573"
   },
   "source": [
    "# ***MNIST_baseline***"
   ]
  },
  {
   "cell_type": "code",
   "execution_count": null,
   "metadata": {
    "colab": {
     "base_uri": "https://localhost:8080/"
    },
    "id": "ghN_oxp5nckJ",
    "outputId": "a2deac3f-b442-43f4-9f53-bd4b1c4362ae"
   },
   "outputs": [
    {
     "name": "stdout",
     "output_type": "stream",
     "text": [
      "Mounted at /gdrive\n"
     ]
    }
   ],
   "source": [
    "from google.colab import drive\n",
    "drive.mount('/gdrive')"
   ]
  },
  {
   "cell_type": "code",
   "execution_count": null,
   "metadata": {
    "id": "ILVxMIbdnmGg"
   },
   "outputs": [],
   "source": [
    "workspace_path = '/gdrive/My Drive/Colab Notebooks'"
   ]
  },
  {
   "cell_type": "code",
   "execution_count": null,
   "metadata": {
    "id": "QGhWD6X0nxds"
   },
   "outputs": [],
   "source": [
    "import torch\n",
    "import torch.nn as nn\n",
    "import torch.nn.functional as F\n",
    "import torch.optim as optim\n",
    "from torchvision import datasets, transforms\n",
    "import os\n",
    "import numpy as np\n",
    "import matplotlib.pyplot as plt"
   ]
  },
  {
   "cell_type": "code",
   "execution_count": null,
   "metadata": {
    "colab": {
     "base_uri": "https://localhost:8080/"
    },
    "id": "ADWiXacqoB7A",
    "outputId": "2ca86aab-6cee-40aa-9318-d9cec05c7046"
   },
   "outputs": [
    {
     "name": "stdout",
     "output_type": "stream",
     "text": [
      "init model done\n"
     ]
    }
   ],
   "source": [
    "class Net(nn.Module):\n",
    "  def __init__(self):\n",
    "    super(Net, self).__init__()\n",
    "    self.fc1 = nn.Linear(784, 256) # MNIST img: 784차원을 256차원으로축소\n",
    "    self.fc2 = nn.Linear(256, 32) # 256차원을 32차원으로 축소\n",
    "    self.fc3 = nn.Linear(32, 10) # 출력값은 몇개가 나와야 하는지 설정을 해준다.(손글씨 숫자 10종 판별)\n",
    "\n",
    "  \n",
    "  def forward(self, x):\n",
    "    x = x.float()\n",
    "    h1 = F.relu(self.fc1(x.view(-1, 784)))\n",
    "    h2 = F.relu(self.fc2(h1))\n",
    "    h3 = self.fc3(h2)\n",
    "    return h3\n",
    "  \n",
    "  print('init model done')"
   ]
  },
  {
   "cell_type": "code",
   "execution_count": null,
   "metadata": {
    "colab": {
     "base_uri": "https://localhost:8080/"
    },
    "id": "2y3T8V4arcsn",
    "outputId": "a33f21aa-0a70-4a88-b8a5-2f0ad93d7997"
   },
   "outputs": [
    {
     "name": "stdout",
     "output_type": "stream",
     "text": [
      "set vars and device done\n"
     ]
    }
   ],
   "source": [
    "# 하이퍼파라미터로 학습을 하기 위한 학습세팅 값\n",
    "batch_size = 64 # 학습 배치 크기\n",
    "test_batch_size = 1000 # 학습 과정을 제외하므로 크게 잡는다.\n",
    "max_epochs = 10 # 총 훈련 할 횟수\n",
    "lr = 0.01 # 학습률 (), learning rate 줄인 약자.\n",
    "momentum = 0.5 # SGD에 사용할 모멘텀, 관성값, 학습할 방향성에 관성\n",
    "seed = 1 # 결과 재현을 위한 시드값\n",
    "log_interval = 200 # 200번 로그를 남김\n",
    "\n",
    "use_cuda = torch.cuda.is_available()  # GPU cuda 사용 여부확인\n",
    "\n",
    "torch.manual_seed(seed)\n",
    "\n",
    "device = torch.device(\"cuda\" if use_cuda else \"cpu\")\n",
    "kwargs = {'num_workers':1, 'pin_memory':True} if use_cuda else {} # num_workers:data loading할 프로세스 수, pin_memory:고정된 메모리 영역\n",
    "\n",
    "print(\"set vars and device done\")"
   ]
  },
  {
   "cell_type": "code",
   "execution_count": null,
   "metadata": {
    "id": "RstY3_4MzTl_"
   },
   "outputs": [],
   "source": [
    "transform = transforms.Compose([\n",
    "                 transforms.ToTensor(),\n",
    "                 transforms.Normalize((0.5,), (0.5,))])  # 임의의 값으로 초기화 (일반적으로는 학습 데이터셋의 평균, 표준편차 사용)\n",
    "\n",
    "# 학습용 데이터 로더 (MNIST 학습 데이터셋 사용)\n",
    "train_loader = torch.utils.data.DataLoader(\n",
    "  datasets.MNIST(os.path.join(workspace_path, 'data'), train=True, download=True, transform=transform),batch_size = batch_size, shuffle=True, drop_last=True, **kwargs)\n",
    "\n",
    "# 테스트용 데이터 로더 (MNIST 테스트 데이터셋 사용)\n",
    "test_loader = torch.utils.data.DataLoader(\n",
    "        datasets.MNIST(os.path.join(workspace_path, 'data'), train=False, download=True, transform=transform), batch_size=test_batch_size, shuffle=True, **kwargs)"
   ]
  },
  {
   "cell_type": "code",
   "execution_count": null,
   "metadata": {
    "colab": {
     "base_uri": "https://localhost:8080/",
     "height": 397
    },
    "id": "YmwlY__NIisc",
    "outputId": "5cebc3d0-0541-41e1-afaf-3d068a5c31c4"
   },
   "outputs": [
    {
     "data": {
      "text/plain": [
       "<Figure size 432x288 with 0 Axes>"
      ]
     },
     "metadata": {
      "tags": []
     },
     "output_type": "display_data"
    },
    {
     "data": {
      "image/png": "[encoded data removed]",
      "text/plain": [
       "<Figure size 1152x504 with 15 Axes>"
      ]
     },
     "metadata": {
      "needs_background": "light",
      "tags": []
     },
     "output_type": "display_data"
    }
   ],
   "source": [
    "plt.gray()\n",
    "fig = plt.figure(figsize=(16,7))\n",
    "for i in range(0,15):\n",
    "  data, _ = train_loader.dataset[i]\n",
    "  data = data.numpy()\n",
    "  ax = fig.add_subplot(3,5,i+1, title = \"\")\n",
    "  ax.matshow(data.reshape((28,28)).astype(float))\n",
    "plt.show()"
   ]
  },
  {
   "cell_type": "code",
   "execution_count": null,
   "metadata": {
    "id": "R2oa3IQzR97a"
   },
   "outputs": [],
   "source": [
    "model = Net().to(device) # 모델정의\n",
    "optimizer = optim.SGD(model.parameters(), lr=lr, momentum=momentum) # 최적화 알고리즘 정의\n",
    "criterion = nn.CrossEntropyLoss() # 손실 함수 정의 , 카테고리 형태의 문제를 풀 때 사용"
   ]
  },
  {
   "cell_type": "code",
   "execution_count": null,
   "metadata": {
    "id": "lGN-eZrNTnVB"
   },
   "outputs": [],
   "source": [
    "class AverageMeter(object):\n",
    "  \"\"\"computes and stores the average and current value\"\"\"\n",
    "  def __init__(self):\n",
    "    self.reset()\n",
    "  \n",
    "  def reset(self):\n",
    "    self.val=0\n",
    "    self.avg=0\n",
    "    self.sum=0\n",
    "    self.count=0\n",
    "\n",
    "  def update(self, val, n=1):\n",
    "    self.val=val\n",
    "    self.sum += val*n\n",
    "    self.count += n\n",
    "    self.avg = self.sum/self.count"
   ]
  },
  {
   "cell_type": "code",
   "execution_count": null,
   "metadata": {
    "id": "rxYnTq9dUMNu"
   },
   "outputs": [],
   "source": [
    "def train(log_interval, model, device, train_loader, optimizer, epoch):# train함수 정의\n",
    "    model.train()  # 모델 학습 모드 설정\n",
    "    summary_loss = AverageMeter()  # 학습 손실값 기록 초기화\n",
    "    summary_acc = AverageMeter() # 학습 정확도 기록 초기화\n",
    "    for batch_idx, (data, target) in enumerate(train_loader): # train loader 하나 들어오면 순회\n",
    "        data, target = data.to(device), target.to(device)  # 현재 미니 배치의 데이터, 정답 불러옴\n",
    "        optimizer.zero_grad()  # gradient 0으로 초기화\n",
    "        output = model(data)  # 모델에 입력값 feed-forward\n",
    "        loss = criterion(output, target)  # 예측값(클래스 별 score)과 정답(target)간의 손실값 계산\n",
    "        loss.backward()  # 손실값 역전파 (각 계층에서 gradient 계산, pytorch는 autograd로 gradient 자동 계산)\n",
    "        optimizer.step()  # 모델의 파라미터 업데이트 (gradient 이용하여 파라미터 업데이트)\n",
    "        summary_loss.update(loss.detach().item())  # 손실값 기록\n",
    "        pred = output.argmax(dim=1, keepdim=True)  # 예측값 중에서 최고 score를 달성한 클래스 선발\n",
    "        correct = pred.eq(target.view_as(pred)).sum().item()  # 정답과 예측 클래스가 일치한 개수\n",
    "        summary_acc.update(correct / data.size(0))  # 정확도 기록\n",
    "        if batch_idx % log_interval == 0:\n",
    "            print('Train Epoch: {} [{}/{} ({:.0f}%)]\\tAverage loss: {:.6f}, Accuracy: {:.6f}'.format(\n",
    "                epoch, batch_idx * len(data), len(train_loader.dataset),\n",
    "                100. * batch_idx / len(train_loader), summary_loss.avg, summary_acc.avg))\n",
    "            \n",
    "    return summary_loss.avg, summary_acc.avg\n",
    "\n",
    "def test(log_interval, model, device, test_loader):\n",
    "    model.eval()  # 모델 검증 모드 설정 (inference mode)\n",
    "    summary_loss = AverageMeter()  # 테스트 손실값 기록 초기화\n",
    "    summary_acc = AverageMeter() # 테스트 정확도 기록 초기화\n",
    "    with torch.no_grad():  # 검증 모드이므로 gradient 계산안함\n",
    "        for data, target in test_loader:\n",
    "            data, target = data.to(device), target.to(device)  # 현재 미니 배치의 데이터, 정답 불러옴\n",
    "            output = model(data)  # 모델에 입력값 feed-forward\n",
    "            loss = criterion(output, target)  # 예측값(클래스 별 score)과 정답간의 손실값 계산\n",
    "            summary_loss.update(loss.detach().item())  # 손실값 기록\n",
    "            pred = output.argmax(dim=1, keepdim=True)  # 예측값 중에서 최고 score를 달성한 클래스 선발\n",
    "            correct = pred.eq(target.view_as(pred)).sum().item()  # 정답과 예측 클래스가 일치한 개수\n",
    "            summary_acc.update(correct / data.size(0))  # 정확도 기록\n",
    "\n",
    "    print('\\nTest set: Average loss: {:.4f}, Accuracy: {:.6f}\\n'.format\n",
    "          (summary_loss.avg, summary_acc.avg))  # 정답을 맞춘 개수 / 테스트셋 샘플 수 -> Accuracy\n",
    "\n",
    "    return summary_loss.avg, summary_acc.avg"
   ]
  },
  {
   "cell_type": "code",
   "execution_count": null,
   "metadata": {
    "colab": {
     "base_uri": "https://localhost:8080/"
    },
    "id": "6gpttcUuWQMT",
    "outputId": "83861149-1439-4a96-eccd-61642c9137b6"
   },
   "outputs": [
    {
     "name": "stdout",
     "output_type": "stream",
     "text": [
      "Train Epoch: 1 [0/60000 (0%)]\tAverage loss: 2.312202, Accuracy: 0.062500\n",
      "Train Epoch: 1 [12800/60000 (21%)]\tAverage loss: 1.707849, Accuracy: 0.499378\n",
      "Train Epoch: 1 [25600/60000 (43%)]\tAverage loss: 1.171320, Accuracy: 0.666108\n",
      "Train Epoch: 1 [38400/60000 (64%)]\tAverage loss: 0.926037, Accuracy: 0.736169\n",
      "Train Epoch: 1 [51200/60000 (85%)]\tAverage loss: 0.792211, Accuracy: 0.773974\n",
      "\n",
      "Test set: Average loss: 0.3321, Accuracy: 0.905400\n",
      "\n",
      "# save model: mnist_ann_model_best_acc_1-epoch.pt\n",
      "\n",
      "Train Epoch: 2 [0/60000 (0%)]\tAverage loss: 0.290889, Accuracy: 0.906250\n",
      "Train Epoch: 2 [12800/60000 (21%)]\tAverage loss: 0.344243, Accuracy: 0.900187\n",
      "Train Epoch: 2 [25600/60000 (43%)]\tAverage loss: 0.339589, Accuracy: 0.901301\n",
      "Train Epoch: 2 [38400/60000 (64%)]\tAverage loss: 0.329704, Accuracy: 0.904248\n",
      "Train Epoch: 2 [51200/60000 (85%)]\tAverage loss: 0.323233, Accuracy: 0.905567\n",
      "\n",
      "Test set: Average loss: 0.2767, Accuracy: 0.918800\n",
      "\n",
      "# save model: mnist_ann_model_best_acc_2-epoch.pt\n",
      "\n",
      "Train Epoch: 3 [0/60000 (0%)]\tAverage loss: 0.227707, Accuracy: 0.921875\n",
      "Train Epoch: 3 [12800/60000 (21%)]\tAverage loss: 0.288520, Accuracy: 0.913557\n",
      "Train Epoch: 3 [25600/60000 (43%)]\tAverage loss: 0.274805, Accuracy: 0.918095\n",
      "Train Epoch: 3 [38400/60000 (64%)]\tAverage loss: 0.267291, Accuracy: 0.920575\n",
      "Train Epoch: 3 [51200/60000 (85%)]\tAverage loss: 0.265246, Accuracy: 0.921446\n",
      "\n",
      "Test set: Average loss: 0.2233, Accuracy: 0.936300\n",
      "\n",
      "# save model: mnist_ann_model_best_acc_3-epoch.pt\n",
      "\n",
      "Train Epoch: 4 [0/60000 (0%)]\tAverage loss: 0.332844, Accuracy: 0.890625\n",
      "Train Epoch: 4 [12800/60000 (21%)]\tAverage loss: 0.232143, Accuracy: 0.932447\n",
      "Train Epoch: 4 [25600/60000 (43%)]\tAverage loss: 0.222250, Accuracy: 0.936214\n",
      "Train Epoch: 4 [38400/60000 (64%)]\tAverage loss: 0.220160, Accuracy: 0.937058\n",
      "Train Epoch: 4 [51200/60000 (85%)]\tAverage loss: 0.219007, Accuracy: 0.937012\n",
      "\n",
      "Test set: Average loss: 0.1922, Accuracy: 0.944700\n",
      "\n",
      "# save model: mnist_ann_model_best_acc_4-epoch.pt\n",
      "\n",
      "Train Epoch: 5 [0/60000 (0%)]\tAverage loss: 0.162735, Accuracy: 0.953125\n",
      "Train Epoch: 5 [12800/60000 (21%)]\tAverage loss: 0.181336, Accuracy: 0.948383\n",
      "Train Epoch: 5 [25600/60000 (43%)]\tAverage loss: 0.185331, Accuracy: 0.947592\n",
      "Train Epoch: 5 [38400/60000 (64%)]\tAverage loss: 0.182921, Accuracy: 0.947587\n",
      "Train Epoch: 5 [51200/60000 (85%)]\tAverage loss: 0.181958, Accuracy: 0.947566\n",
      "\n",
      "Test set: Average loss: 0.1635, Accuracy: 0.951200\n",
      "\n",
      "# save model: mnist_ann_model_best_acc_5-epoch.pt\n",
      "\n",
      "Train Epoch: 6 [0/60000 (0%)]\tAverage loss: 0.224195, Accuracy: 0.968750\n",
      "Train Epoch: 6 [12800/60000 (21%)]\tAverage loss: 0.154692, Accuracy: 0.956312\n",
      "Train Epoch: 6 [25600/60000 (43%)]\tAverage loss: 0.157314, Accuracy: 0.953709\n",
      "Train Epoch: 6 [38400/60000 (64%)]\tAverage loss: 0.158401, Accuracy: 0.952969\n",
      "Train Epoch: 6 [51200/60000 (85%)]\tAverage loss: 0.154854, Accuracy: 0.954412\n",
      "\n",
      "Test set: Average loss: 0.1486, Accuracy: 0.956600\n",
      "\n",
      "# save model: mnist_ann_model_best_acc_6-epoch.pt\n",
      "\n",
      "Train Epoch: 7 [0/60000 (0%)]\tAverage loss: 0.369450, Accuracy: 0.906250\n",
      "Train Epoch: 7 [12800/60000 (21%)]\tAverage loss: 0.136360, Accuracy: 0.960899\n",
      "Train Epoch: 7 [25600/60000 (43%)]\tAverage loss: 0.136672, Accuracy: 0.960918\n",
      "Train Epoch: 7 [38400/60000 (64%)]\tAverage loss: 0.134371, Accuracy: 0.961340\n",
      "Train Epoch: 7 [51200/60000 (85%)]\tAverage loss: 0.131669, Accuracy: 0.962157\n",
      "\n",
      "Test set: Average loss: 0.1353, Accuracy: 0.958500\n",
      "\n",
      "# save model: mnist_ann_model_best_acc_7-epoch.pt\n",
      "\n",
      "Train Epoch: 8 [0/60000 (0%)]\tAverage loss: 0.097553, Accuracy: 0.953125\n",
      "Train Epoch: 8 [12800/60000 (21%)]\tAverage loss: 0.118321, Accuracy: 0.965252\n",
      "Train Epoch: 8 [25600/60000 (43%)]\tAverage loss: 0.118399, Accuracy: 0.965711\n",
      "Train Epoch: 8 [38400/60000 (64%)]\tAverage loss: 0.119613, Accuracy: 0.965578\n",
      "Train Epoch: 8 [51200/60000 (85%)]\tAverage loss: 0.117776, Accuracy: 0.966175\n",
      "\n",
      "Test set: Average loss: 0.1217, Accuracy: 0.963200\n",
      "\n",
      "# save model: mnist_ann_model_best_acc_8-epoch.pt\n",
      "\n",
      "Train Epoch: 9 [0/60000 (0%)]\tAverage loss: 0.248824, Accuracy: 0.937500\n",
      "Train Epoch: 9 [12800/60000 (21%)]\tAverage loss: 0.103412, Accuracy: 0.969372\n",
      "Train Epoch: 9 [25600/60000 (43%)]\tAverage loss: 0.105690, Accuracy: 0.968555\n",
      "Train Epoch: 9 [38400/60000 (64%)]\tAverage loss: 0.105983, Accuracy: 0.969062\n",
      "Train Epoch: 9 [51200/60000 (85%)]\tAverage loss: 0.104882, Accuracy: 0.969140\n",
      "\n",
      "Test set: Average loss: 0.1102, Accuracy: 0.967100\n",
      "\n",
      "# save model: mnist_ann_model_best_acc_9-epoch.pt\n",
      "\n",
      "Train Epoch: 10 [0/60000 (0%)]\tAverage loss: 0.056393, Accuracy: 0.984375\n",
      "Train Epoch: 10 [12800/60000 (21%)]\tAverage loss: 0.085818, Accuracy: 0.974347\n",
      "Train Epoch: 10 [25600/60000 (43%)]\tAverage loss: 0.089904, Accuracy: 0.973153\n",
      "Train Epoch: 10 [38400/60000 (64%)]\tAverage loss: 0.092252, Accuracy: 0.972312\n",
      "Train Epoch: 10 [51200/60000 (85%)]\tAverage loss: 0.093387, Accuracy: 0.972359\n",
      "\n",
      "Test set: Average loss: 0.1019, Accuracy: 0.969400\n",
      "\n",
      "# save model: mnist_ann_model_best_acc_10-epoch.pt\n",
      "\n"
     ]
    }
   ],
   "source": [
    "for epoch in range(1, max_epochs+1):\n",
    "    best_acc = 0\n",
    "    train_loss, train_acc = train(log_interval, model, device, train_loader, optimizer, epoch)\n",
    "    test_loss, test_acc = test(log_interval, model, device, test_loader)\n",
    "\n",
    "    # 테스트에서 best accuracy 달성하면 모델 저장\n",
    "    if test_acc > best_acc:\n",
    "        best_acc = test_acc\n",
    "        torch.save(model, os.path.join(workspace_path, f'mnist_ann_model_best_acc_{epoch}-epoch.pt'))\n",
    "        print(f'# save model: mnist_ann_model_best_acc_{epoch}-epoch.pt\\n')"
   ]
  },
  {
   "cell_type": "markdown",
   "metadata": {
    "id": "YjMkEPvZbGAl"
   },
   "source": [
    "# ***CIFAR10_baseline***"
   ]
  },
  {
   "cell_type": "code",
   "execution_count": null,
   "metadata": {
    "colab": {
     "base_uri": "https://localhost:8080/"
    },
    "id": "QuCQUjqBbUnF",
    "outputId": "b13ea1c3-7f04-4f86-9564-f694d5162def"
   },
   "outputs": [
    {
     "name": "stdout",
     "output_type": "stream",
     "text": [
      "Drive already mounted at /gdrive; to attempt to forcibly remount, call drive.mount(\"/gdrive\", force_remount=True).\n"
     ]
    }
   ],
   "source": [
    "from google.colab import drive\n",
    "drive.mount('/gdrive')"
   ]
  },
  {
   "cell_type": "code",
   "execution_count": null,
   "metadata": {
    "id": "PGRvAYpNbY-Q"
   },
   "outputs": [],
   "source": [
    "workspace_path = '/gdrive/My Drive/Colab Notebooks/'"
   ]
  },
  {
   "cell_type": "code",
   "execution_count": null,
   "metadata": {
    "id": "9HFAC222cKmf"
   },
   "outputs": [],
   "source": [
    "import torch\n",
    "import torch.nn as nn\n",
    "import torch.nn.functional as F\n",
    "import torch.optim as optim\n",
    "from torchvision import datasets, transforms\n",
    "import os\n",
    "import numpy as np\n",
    "import matplotlib.pyplot as plt"
   ]
  },
  {
   "cell_type": "code",
   "execution_count": null,
   "metadata": {
    "colab": {
     "base_uri": "https://localhost:8080/"
    },
    "id": "ewYt0saVcZKb",
    "outputId": "ccc85249-7105-4c68-a25f-8c11ebc741fd"
   },
   "outputs": [
    {
     "name": "stdout",
     "output_type": "stream",
     "text": [
      "init model done\n"
     ]
    }
   ],
   "source": [
    "class Net(nn.Module):\n",
    "  def __init__(self):\n",
    "    super(Net, self).__init__()\n",
    "    self.fc1 = nn.Linear(32*32*3, 256)\n",
    "    self.fc2 = nn.Linear(256, 32)\n",
    "    self.fc3 = nn.Linear(32,10)\n",
    "\n",
    "  def forward(self, x):\n",
    "    x = x.float()\n",
    "    h1 = F.relu(self.fc1(x.view(-1,32*32*3)))\n",
    "    h2 = F.relu(self.fc2(h1))\n",
    "    h3 = self.fc3(h2)\n",
    "    return h3\n",
    "\n",
    "print(\"init model done\")"
   ]
  },
  {
   "cell_type": "code",
   "execution_count": null,
   "metadata": {
    "colab": {
     "base_uri": "https://localhost:8080/"
    },
    "id": "923Qc1twddYy",
    "outputId": "84f6ca4c-c98b-4db7-f964-406eb086974a"
   },
   "outputs": [
    {
     "name": "stdout",
     "output_type": "stream",
     "text": [
      "set vars and device done\n"
     ]
    }
   ],
   "source": [
    "batch_size = 64\n",
    "test_batch_size = 1000\n",
    "max_epochs = 10\n",
    "lr = 0.01\n",
    "momentum = 0.5\n",
    "seed = 1\n",
    "log_interval = 200\n",
    "use_cuda = torch.cuda.is_available()\n",
    "torch.manual_seed(seed)\n",
    "device = torch.device(\"cuda\" if use_cuda else \"cpu\")\n",
    "\n",
    "kwargs = {'num_workers':1, 'pin_memory':True} if use_cuda else {}\n",
    "print(\"set vars and device done\")"
   ]
  },
  {
   "cell_type": "code",
   "execution_count": null,
   "metadata": {
    "colab": {
     "base_uri": "https://localhost:8080/"
    },
    "id": "tJMItZ06eBRk",
    "outputId": "1c3d39d8-e171-4999-a1a8-32cef3d23ee2"
   },
   "outputs": [
    {
     "name": "stdout",
     "output_type": "stream",
     "text": [
      "Files already downloaded and verified\n",
      "Files already downloaded and verified\n"
     ]
    }
   ],
   "source": [
    "transform = transforms.Compose([\n",
    "                                transforms.ToTensor(),transforms.Normalize(\n",
    "                                    (0.5,0.5,0.5), (0.5,0.5,0.5)\n",
    "                                )\n",
    "])\n",
    "train_loader = torch.utils.data.DataLoader(datasets.CIFAR10(os.path.join(workspace_path, 'data'), train=True, download=True, transform=transform),\n",
    "                                           batch_size=batch_size, shuffle=True, drop_last = True, **kwargs)\n",
    "test_loader = torch.utils.data.DataLoader(\n",
    "    datasets.CIFAR10(os.path.join(workspace_path, 'data'), train=False, download=True, transform=transform),\n",
    "    batch_size=test_batch_size, shuffle=True, **kwargs\n",
    ")"
   ]
  },
  {
   "cell_type": "code",
   "execution_count": null,
   "metadata": {
    "id": "69nf0oA_sqgB"
   },
   "outputs": [],
   "source": [
    "model = Net().to(device)\n",
    "optimizer = optim.SGD(model.parameters(), lr=lr, momentum=momentum)\n",
    "criterion = nn.CrossEntropyLoss()"
   ]
  },
  {
   "cell_type": "code",
   "execution_count": null,
   "metadata": {
    "id": "XUnWq8UCtlsV"
   },
   "outputs": [],
   "source": [
    "class AverageMeter(object):\n",
    "  \"\"\"Computes and stores the average and current value\"\"\"\n",
    "  def __init__(self):\n",
    "    self.reset()\n",
    "  \n",
    "  def reset(self):\n",
    "    self.val=0\n",
    "    self.avg=0\n",
    "    self.sum=0\n",
    "    self.count=0\n",
    "  \n",
    "  def update(self, val, n=1):\n",
    "    self.val = val\n",
    "    self.sum += val*n\n",
    "    self.count +=n\n",
    "    self.avg = self.sum/self.count"
   ]
  },
  {
   "cell_type": "code",
   "execution_count": null,
   "metadata": {
    "id": "r02LCv6ouAOk"
   },
   "outputs": [],
   "source": [
    "def train(log_interval, model, device, train_loader, optimizer, epoch):\n",
    "    model.train()  # 모델 학습 모드 설정\n",
    "    summary_loss = AverageMeter()  # 학습 손실값 기록 초기화\n",
    "    summary_acc = AverageMeter() # 학습 정확도 기록 초기화\n",
    "    for batch_idx, (data, target) in enumerate(train_loader):\n",
    "        data, target = data.to(device), target.to(device)  # 현재 미니 배치의 데이터, 정답 불러옴\n",
    "        optimizer.zero_grad()  # gradient 0으로 초기화\n",
    "        output = model(data)  # 모델에 입력값 feed-forward\n",
    "        loss = criterion(output, target)  # 예측값(클래스 별 score)과 정답간의 손실값 계산\n",
    "        loss.backward()  # 손실값 역전파 (각 계층에서 gradient 계산, pytorch는 autograd로 gradient 자동 계산)\n",
    "        optimizer.step()  # 모델의 파라미터 업데이트 (gradient 이용하여 파라미터 업데이트)\n",
    "        summary_loss.update(loss.detach().item())  # 손실값 기록\n",
    "        pred = output.argmax(dim=1, keepdim=True)  # 예측값 중에서 최고 score를 달성한 클래스 선발\n",
    "        correct = pred.eq(target.view_as(pred)).sum().item()  # 정답과 예측 클래스가 일치한 개수\n",
    "        summary_acc.update(correct / data.size(0))  # 정확도 기록\n",
    "        if batch_idx % log_interval == 0:\n",
    "            print('Train Epoch: {} [{}/{} ({:.0f}%)]\\tAverage loss: {:.6f}, Accuracy: {:.6f}'.format(\n",
    "                epoch, batch_idx * len(data), len(train_loader.dataset),\n",
    "                100. * batch_idx / len(train_loader), summary_loss.avg, summary_acc.avg))\n",
    "            \n",
    "    return summary_loss.avg, summary_acc.avg\n",
    "\n",
    "def test(log_interval, model, device, test_loader):\n",
    "    model.eval()  # 모델 검증 모드 설정 (inference mode)\n",
    "    summary_loss = AverageMeter()  # 테스트 손실값 기록 초기화\n",
    "    summary_acc = AverageMeter() # 테스트 정확도 기록 초기화\n",
    "    with torch.no_grad():  # 검증 모드이므로 gradient 계산안함\n",
    "        for data, target in test_loader:\n",
    "            data, target = data.to(device), target.to(device)  # 현재 미니 배치의 데이터, 정답 불러옴\n",
    "            output = model(data)  # 모델에 입력값 feed-forward\n",
    "            loss = criterion(output, target)  # 예측값(클래스 별 score)과 정답간의 손실값 계산\n",
    "            summary_loss.update(loss.detach().item())  # 손실값 기록\n",
    "            pred = output.argmax(dim=1, keepdim=True)  # 예측값 중에서 최고 score를 달성한 클래스 선발\n",
    "            correct = pred.eq(target.view_as(pred)).sum().item()  # 정답과 예측 클래스가 일치한 개수\n",
    "            summary_acc.update(correct / data.size(0))  # 정확도 기록\n",
    "\n",
    "    print('\\nTest set: Average loss: {:.4f}, Accuracy: {:.6f}\\n'.format\n",
    "          (summary_loss.avg, summary_acc.avg))  # 정답을 맞춘 개수 / 테스트셋 샘플 수 -> Accuracy\n",
    "\n",
    "    return summary_loss.avg, summary_acc.avg"
   ]
  },
  {
   "cell_type": "code",
   "execution_count": null,
   "metadata": {
    "colab": {
     "base_uri": "https://localhost:8080/"
    },
    "id": "uCNKi5_4uNur",
    "outputId": "2aa4c845-a462-4151-f71b-ac5edc4e3568"
   },
   "outputs": [
    {
     "name": "stdout",
     "output_type": "stream",
     "text": [
      "Train Epoch: 1 [0/50000 (0%)]\tAverage loss: 2.304628, Accuracy: 0.109375\n",
      "Train Epoch: 1 [12800/50000 (26%)]\tAverage loss: 2.194363, Accuracy: 0.203980\n",
      "Train Epoch: 1 [25600/50000 (51%)]\tAverage loss: 2.067708, Accuracy: 0.257364\n",
      "Train Epoch: 1 [38400/50000 (77%)]\tAverage loss: 1.987291, Accuracy: 0.292377\n",
      "\n",
      "Test set: Average loss: 1.7214, Accuracy: 0.393900\n",
      "\n",
      "# save model: cifar10_ann_model_best_acc_1-epoch.pt\n",
      "\n",
      "Train Epoch: 2 [0/50000 (0%)]\tAverage loss: 1.644846, Accuracy: 0.437500\n",
      "Train Epoch: 2 [12800/50000 (26%)]\tAverage loss: 1.695115, Accuracy: 0.404307\n",
      "Train Epoch: 2 [25600/50000 (51%)]\tAverage loss: 1.674992, Accuracy: 0.406640\n",
      "Train Epoch: 2 [38400/50000 (77%)]\tAverage loss: 1.654580, Accuracy: 0.415245\n",
      "\n",
      "Test set: Average loss: 1.5737, Accuracy: 0.447600\n",
      "\n",
      "# save model: cifar10_ann_model_best_acc_2-epoch.pt\n",
      "\n",
      "Train Epoch: 3 [0/50000 (0%)]\tAverage loss: 1.641424, Accuracy: 0.437500\n",
      "Train Epoch: 3 [12800/50000 (26%)]\tAverage loss: 1.544297, Accuracy: 0.454136\n",
      "Train Epoch: 3 [25600/50000 (51%)]\tAverage loss: 1.547061, Accuracy: 0.454450\n",
      "Train Epoch: 3 [38400/50000 (77%)]\tAverage loss: 1.539869, Accuracy: 0.456921\n",
      "\n",
      "Test set: Average loss: 1.4949, Accuracy: 0.476200\n",
      "\n",
      "# save model: cifar10_ann_model_best_acc_3-epoch.pt\n",
      "\n",
      "Train Epoch: 4 [0/50000 (0%)]\tAverage loss: 1.510507, Accuracy: 0.437500\n",
      "Train Epoch: 4 [12800/50000 (26%)]\tAverage loss: 1.465919, Accuracy: 0.487640\n",
      "Train Epoch: 4 [25600/50000 (51%)]\tAverage loss: 1.461191, Accuracy: 0.487453\n",
      "Train Epoch: 4 [38400/50000 (77%)]\tAverage loss: 1.455376, Accuracy: 0.489601\n",
      "\n",
      "Test set: Average loss: 1.4491, Accuracy: 0.493800\n",
      "\n",
      "# save model: cifar10_ann_model_best_acc_4-epoch.pt\n",
      "\n",
      "Train Epoch: 5 [0/50000 (0%)]\tAverage loss: 1.534092, Accuracy: 0.437500\n",
      "Train Epoch: 5 [12800/50000 (26%)]\tAverage loss: 1.399265, Accuracy: 0.506763\n",
      "Train Epoch: 5 [25600/50000 (51%)]\tAverage loss: 1.391909, Accuracy: 0.508494\n",
      "Train Epoch: 5 [38400/50000 (77%)]\tAverage loss: 1.385829, Accuracy: 0.512089\n",
      "\n",
      "Test set: Average loss: 1.4112, Accuracy: 0.502700\n",
      "\n",
      "# save model: cifar10_ann_model_best_acc_5-epoch.pt\n",
      "\n",
      "Train Epoch: 6 [0/50000 (0%)]\tAverage loss: 1.246638, Accuracy: 0.578125\n",
      "Train Epoch: 6 [12800/50000 (26%)]\tAverage loss: 1.331776, Accuracy: 0.535759\n",
      "Train Epoch: 6 [25600/50000 (51%)]\tAverage loss: 1.328039, Accuracy: 0.535224\n",
      "Train Epoch: 6 [38400/50000 (77%)]\tAverage loss: 1.326083, Accuracy: 0.533850\n",
      "\n",
      "Test set: Average loss: 1.3698, Accuracy: 0.518400\n",
      "\n",
      "# save model: cifar10_ann_model_best_acc_6-epoch.pt\n",
      "\n",
      "Train Epoch: 7 [0/50000 (0%)]\tAverage loss: 1.183720, Accuracy: 0.609375\n",
      "Train Epoch: 7 [12800/50000 (26%)]\tAverage loss: 1.268942, Accuracy: 0.549829\n",
      "Train Epoch: 7 [25600/50000 (51%)]\tAverage loss: 1.268361, Accuracy: 0.553148\n",
      "Train Epoch: 7 [38400/50000 (77%)]\tAverage loss: 1.270147, Accuracy: 0.552959\n",
      "\n",
      "Test set: Average loss: 1.3503, Accuracy: 0.525400\n",
      "\n",
      "# save model: cifar10_ann_model_best_acc_7-epoch.pt\n",
      "\n",
      "Train Epoch: 8 [0/50000 (0%)]\tAverage loss: 1.312028, Accuracy: 0.484375\n",
      "Train Epoch: 8 [12800/50000 (26%)]\tAverage loss: 1.228439, Accuracy: 0.568252\n",
      "Train Epoch: 8 [25600/50000 (51%)]\tAverage loss: 1.231472, Accuracy: 0.569397\n",
      "Train Epoch: 8 [38400/50000 (77%)]\tAverage loss: 1.227179, Accuracy: 0.570975\n",
      "\n",
      "Test set: Average loss: 1.3497, Accuracy: 0.527800\n",
      "\n",
      "# save model: cifar10_ann_model_best_acc_8-epoch.pt\n",
      "\n",
      "Train Epoch: 9 [0/50000 (0%)]\tAverage loss: 1.206595, Accuracy: 0.640625\n",
      "Train Epoch: 9 [12800/50000 (26%)]\tAverage loss: 1.165084, Accuracy: 0.588930\n",
      "Train Epoch: 9 [25600/50000 (51%)]\tAverage loss: 1.181867, Accuracy: 0.585061\n",
      "Train Epoch: 9 [38400/50000 (77%)]\tAverage loss: 1.189842, Accuracy: 0.582727\n",
      "\n",
      "Test set: Average loss: 1.3550, Accuracy: 0.530200\n",
      "\n",
      "# save model: cifar10_ann_model_best_acc_9-epoch.pt\n",
      "\n",
      "Train Epoch: 10 [0/50000 (0%)]\tAverage loss: 1.110269, Accuracy: 0.625000\n",
      "Train Epoch: 10 [12800/50000 (26%)]\tAverage loss: 1.127186, Accuracy: 0.605333\n",
      "Train Epoch: 10 [25600/50000 (51%)]\tAverage loss: 1.144261, Accuracy: 0.598270\n",
      "Train Epoch: 10 [38400/50000 (77%)]\tAverage loss: 1.149171, Accuracy: 0.597234\n",
      "\n",
      "Test set: Average loss: 1.3272, Accuracy: 0.538800\n",
      "\n",
      "# save model: cifar10_ann_model_best_acc_10-epoch.pt\n",
      "\n"
     ]
    }
   ],
   "source": [
    "for epoch in range(1, max_epochs+1):\n",
    "    best_acc = 0\n",
    "    train_loss, train_acc = train(log_interval, model, device, train_loader, optimizer, epoch)\n",
    "    test_loss, test_acc = test(log_interval, model, device, test_loader)\n",
    "\n",
    "    # 테스트에서 best accuracy 달성하면 모델 저장\n",
    "    if test_acc > best_acc:\n",
    "        best_acc = test_acc\n",
    "        torch.save(model, os.path.join(workspace_path, f'cifar10_ann_model_best_acc_{epoch}-epoch.pt'))\n",
    "        print(f'# save model: cifar10_ann_model_best_acc_{epoch}-epoch.pt\\n')"
   ]
  },
  {
   "cell_type": "markdown",
   "metadata": {
    "id": "Rchh-4Idudvx"
   },
   "source": [
    "# ***CIFAR-100***"
   ]
  },
  {
   "cell_type": "code",
   "execution_count": null,
   "metadata": {
    "colab": {
     "base_uri": "https://localhost:8080/"
    },
    "id": "hBlYIwBvwHw0",
    "outputId": "d5ffc09d-1a9c-46a7-9dd6-30b90f2348c0"
   },
   "outputs": [
    {
     "name": "stdout",
     "output_type": "stream",
     "text": [
      "Drive already mounted at /gdrive; to attempt to forcibly remount, call drive.mount(\"/gdrive\", force_remount=True).\n"
     ]
    }
   ],
   "source": [
    "from google.colab import drive\n",
    "drive.mount('/gdrive')"
   ]
  },
  {
   "cell_type": "code",
   "execution_count": null,
   "metadata": {
    "id": "pafd5dLbwMrG"
   },
   "outputs": [],
   "source": [
    "workspace_path = '/gdrive/My Drive/Colab Notebooks/'"
   ]
  },
  {
   "cell_type": "code",
   "execution_count": null,
   "metadata": {
    "id": "G7av1yWxwSzE"
   },
   "outputs": [],
   "source": [
    "import torch\n",
    "import torch.nn as nn\n",
    "import torch.nn.functional as F\n",
    "import torch.optim as optim\n",
    "from torchvision import datasets, transforms\n",
    "import os\n",
    "import numpy as np\n",
    "import matplotlib.pyplot as plt"
   ]
  },
  {
   "cell_type": "code",
   "execution_count": null,
   "metadata": {
    "colab": {
     "base_uri": "https://localhost:8080/"
    },
    "id": "hgjhNufhwgK8",
    "outputId": "792a432e-6b37-411f-916d-aaff93f331fc"
   },
   "outputs": [
    {
     "name": "stdout",
     "output_type": "stream",
     "text": [
      "init model done\n"
     ]
    }
   ],
   "source": [
    "class Net(nn.Module):\n",
    "  def __init__(self):\n",
    "    super(Net, self).__init__()\n",
    "    self.fc1 = nn.Linear(32*32*3,256)\n",
    "    self.fc2 = nn.Linear(256,32)\n",
    "    self.fc3 = nn.Linear(32,100)\n",
    "\n",
    "  def forward(self, x):\n",
    "    x = x.float()\n",
    "    h1 = F.relu(self.fc1(x.view(-1, 32*32*3)))\n",
    "    h2 = F.relu(self.fc2(h1))\n",
    "    h3 = self.fc3(h2)\n",
    "    return h3\n",
    "\n",
    "print(\"init model done\")"
   ]
  },
  {
   "cell_type": "code",
   "execution_count": null,
   "metadata": {
    "colab": {
     "base_uri": "https://localhost:8080/"
    },
    "id": "QDpcaAZn0Ktt",
    "outputId": "3d87bc53-801f-4d12-9738-a10d19302b4f"
   },
   "outputs": [
    {
     "name": "stdout",
     "output_type": "stream",
     "text": [
      "set vars and device done\n"
     ]
    }
   ],
   "source": [
    "batch_size = 64\n",
    "test_batch_size = 1000\n",
    "max_epochs = 10  \n",
    "lr = 0.01  \n",
    "momentum = 0.5 \n",
    "seed = 1  \n",
    "log_interval = 200\n",
    "\n",
    "use_cuda = torch.cuda.is_available()\n",
    "\n",
    "torch.manual_seed(seed)\n",
    "\n",
    "device = torch.device(\"cuda\" if use_cuda else \"cpu\")\n",
    "\n",
    "kwargs = {'num_workers': 1, 'pin_memory': True} if use_cuda else {}\n",
    "\n",
    "print(\"set vars and device done\")"
   ]
  },
  {
   "cell_type": "code",
   "execution_count": null,
   "metadata": {
    "colab": {
     "base_uri": "https://localhost:8080/"
    },
    "id": "DwTw4MYf5H-j",
    "outputId": "5b53d205-b32e-4cd4-b195-0ba0c837fef3"
   },
   "outputs": [
    {
     "name": "stdout",
     "output_type": "stream",
     "text": [
      "Files already downloaded and verified\n",
      "Files already downloaded and verified\n"
     ]
    }
   ],
   "source": [
    "transform = transforms.Compose([\n",
    "                 transforms.ToTensor(),\n",
    "                 transforms.Normalize((0.5, 0.5, 0.5), (0.5, 0.5, 0.5))])\n",
    "\n",
    "train_loader = torch.utils.data.DataLoader(\n",
    "  datasets.CIFAR100(os.path.join(workspace_path, 'data'), train=True, download=True, \n",
    "                   transform=transform), \n",
    "    batch_size = batch_size, shuffle=True, drop_last=True, **kwargs)\n",
    "\n",
    "\n",
    "test_loader = torch.utils.data.DataLoader(\n",
    "        datasets.CIFAR100(os.path.join(workspace_path, 'data'), train=False, download=True,\n",
    "                         transform=transform), \n",
    "    batch_size=test_batch_size, shuffle=True, **kwargs)"
   ]
  },
  {
   "cell_type": "code",
   "execution_count": null,
   "metadata": {
    "id": "but_ibv48vlF"
   },
   "outputs": [],
   "source": [
    "model = Net().to(device)  \n",
    "optimizer = optim.SGD(model.parameters(), lr=lr, momentum=momentum)  \n",
    "criterion = nn.CrossEntropyLoss()"
   ]
  },
  {
   "cell_type": "code",
   "execution_count": null,
   "metadata": {
    "id": "InOhkFto8-b_"
   },
   "outputs": [],
   "source": [
    "class AverageMeter(object):\n",
    "    \"\"\"Computes and stores the average and current value\"\"\"\n",
    "    def __init__(self):\n",
    "        self.reset()\n",
    "\n",
    "    def reset(self):\n",
    "        self.val = 0\n",
    "        self.avg = 0\n",
    "        self.sum = 0\n",
    "        self.count = 0\n",
    "\n",
    "    def update(self, val, n=1):\n",
    "        self.val = val\n",
    "        self.sum += val * n\n",
    "        self.count += n\n",
    "        self.avg = self.sum / self.count"
   ]
  },
  {
   "cell_type": "code",
   "execution_count": null,
   "metadata": {
    "id": "jka2wwA19Wos"
   },
   "outputs": [],
   "source": [
    "def train(log_interval, model, device, train_loader, optimizer, epoch):\n",
    "    model.train() \n",
    "    summary_loss = AverageMeter() \n",
    "    summary_acc = AverageMeter() \n",
    "    for batch_idx, (data, target) in enumerate(train_loader):\n",
    "        data, target = data.to(device), target.to(device)\n",
    "        optimizer.zero_grad()  \n",
    "        output = model(data)  \n",
    "        loss = criterion(output, target) \n",
    "        loss.backward() \n",
    "        optimizer.step()  \n",
    "        summary_loss.update(loss.detach().item()) \n",
    "        pred = output.argmax(dim=1, keepdim=True)  \n",
    "        correct = pred.eq(target.view_as(pred)).sum().item() \n",
    "        summary_acc.update(correct / data.size(0)) \n",
    "        if batch_idx % log_interval == 0:\n",
    "            print('Train Epoch: {} [{}/{} ({:.0f}%)]\\tAverage loss: {:.6f}, Accuracy: {:.6f}'.format(\n",
    "                epoch, batch_idx * len(data), len(train_loader.dataset),\n",
    "                100. * batch_idx / len(train_loader), summary_loss.avg, summary_acc.avg))\n",
    "            \n",
    "    return summary_loss.avg, summary_acc.avg\n",
    "\n",
    "def test(log_interval, model, device, test_loader):\n",
    "    model.eval()  \n",
    "    summary_loss = AverageMeter()  \n",
    "    summary_acc = AverageMeter() \n",
    "    with torch.no_grad():  \n",
    "        for data, target in test_loader:\n",
    "            data, target = data.to(device), target.to(device) \n",
    "            output = model(data)  \n",
    "            loss = criterion(output, target) \n",
    "            summary_loss.update(loss.detach().item()) \n",
    "            pred = output.argmax(dim=1, keepdim=True) \n",
    "            correct = pred.eq(target.view_as(pred)).sum().item() \n",
    "            summary_acc.update(correct / data.size(0)) \n",
    "\n",
    "    print('\\nTest set: Average loss: {:.4f}, Accuracy: {:.6f}\\n'.format\n",
    "          (summary_loss.avg, summary_acc.avg)) \n",
    "\n",
    "    return summary_loss.avg, summary_acc.avg"
   ]
  },
  {
   "cell_type": "code",
   "execution_count": null,
   "metadata": {
    "colab": {
     "base_uri": "https://localhost:8080/"
    },
    "id": "I4feMvC6A1wr",
    "outputId": "a5893c2a-3104-4e25-f864-75b4f9dad02b"
   },
   "outputs": [
    {
     "name": "stdout",
     "output_type": "stream",
     "text": [
      "Train Epoch: 1 [0/50000 (0%)]\tAverage loss: 4.622047, Accuracy: 0.000000\n",
      "Train Epoch: 1 [12800/50000 (26%)]\tAverage loss: 4.570876, Accuracy: 0.028685\n",
      "Train Epoch: 1 [25600/50000 (51%)]\tAverage loss: 4.508444, Accuracy: 0.035887\n",
      "Train Epoch: 1 [38400/50000 (77%)]\tAverage loss: 4.419415, Accuracy: 0.044275\n",
      "\n",
      "Test set: Average loss: 4.0372, Accuracy: 0.087600\n",
      "\n",
      "# save model: cifar100_ann_model_best_acc_1-epoch.pt\n",
      "\n",
      "Train Epoch: 2 [0/50000 (0%)]\tAverage loss: 4.006414, Accuracy: 0.109375\n",
      "Train Epoch: 2 [12800/50000 (26%)]\tAverage loss: 3.980313, Accuracy: 0.095149\n",
      "Train Epoch: 2 [25600/50000 (51%)]\tAverage loss: 3.941499, Accuracy: 0.101777\n",
      "Train Epoch: 2 [38400/50000 (77%)]\tAverage loss: 3.901882, Accuracy: 0.108595\n",
      "\n",
      "Test set: Average loss: 3.7489, Accuracy: 0.139200\n",
      "\n",
      "# save model: cifar100_ann_model_best_acc_2-epoch.pt\n",
      "\n",
      "Train Epoch: 3 [0/50000 (0%)]\tAverage loss: 3.762461, Accuracy: 0.093750\n",
      "Train Epoch: 3 [12800/50000 (26%)]\tAverage loss: 3.705311, Accuracy: 0.140392\n",
      "Train Epoch: 3 [25600/50000 (51%)]\tAverage loss: 3.681061, Accuracy: 0.144638\n",
      "Train Epoch: 3 [38400/50000 (77%)]\tAverage loss: 3.662159, Accuracy: 0.148918\n",
      "\n",
      "Test set: Average loss: 3.6127, Accuracy: 0.153100\n",
      "\n",
      "# save model: cifar100_ann_model_best_acc_3-epoch.pt\n",
      "\n",
      "Train Epoch: 4 [0/50000 (0%)]\tAverage loss: 3.507378, Accuracy: 0.250000\n",
      "Train Epoch: 4 [12800/50000 (26%)]\tAverage loss: 3.551861, Accuracy: 0.163946\n",
      "Train Epoch: 4 [25600/50000 (51%)]\tAverage loss: 3.551427, Accuracy: 0.166887\n",
      "Train Epoch: 4 [38400/50000 (77%)]\tAverage loss: 3.536876, Accuracy: 0.169093\n",
      "\n",
      "Test set: Average loss: 3.5260, Accuracy: 0.175900\n",
      "\n",
      "# save model: cifar100_ann_model_best_acc_4-epoch.pt\n",
      "\n",
      "Train Epoch: 5 [0/50000 (0%)]\tAverage loss: 3.476557, Accuracy: 0.171875\n",
      "Train Epoch: 5 [12800/50000 (26%)]\tAverage loss: 3.444088, Accuracy: 0.187655\n",
      "Train Epoch: 5 [25600/50000 (51%)]\tAverage loss: 3.436569, Accuracy: 0.191358\n",
      "Train Epoch: 5 [38400/50000 (77%)]\tAverage loss: 3.431784, Accuracy: 0.191478\n",
      "\n",
      "Test set: Average loss: 3.4667, Accuracy: 0.184900\n",
      "\n",
      "# save model: cifar100_ann_model_best_acc_5-epoch.pt\n",
      "\n",
      "Train Epoch: 6 [0/50000 (0%)]\tAverage loss: 3.532392, Accuracy: 0.156250\n",
      "Train Epoch: 6 [12800/50000 (26%)]\tAverage loss: 3.348490, Accuracy: 0.205068\n",
      "Train Epoch: 6 [25600/50000 (51%)]\tAverage loss: 3.347859, Accuracy: 0.205190\n",
      "Train Epoch: 6 [38400/50000 (77%)]\tAverage loss: 3.346820, Accuracy: 0.205023\n",
      "\n",
      "Test set: Average loss: 3.4046, Accuracy: 0.200000\n",
      "\n",
      "# save model: cifar100_ann_model_best_acc_6-epoch.pt\n",
      "\n",
      "Train Epoch: 7 [0/50000 (0%)]\tAverage loss: 3.279562, Accuracy: 0.187500\n",
      "Train Epoch: 7 [12800/50000 (26%)]\tAverage loss: 3.267965, Accuracy: 0.218361\n",
      "Train Epoch: 7 [25600/50000 (51%)]\tAverage loss: 3.277238, Accuracy: 0.219646\n",
      "Train Epoch: 7 [38400/50000 (77%)]\tAverage loss: 3.272290, Accuracy: 0.220128\n",
      "\n",
      "Test set: Average loss: 3.3559, Accuracy: 0.208500\n",
      "\n",
      "# save model: cifar100_ann_model_best_acc_7-epoch.pt\n",
      "\n",
      "Train Epoch: 8 [0/50000 (0%)]\tAverage loss: 3.174525, Accuracy: 0.234375\n",
      "Train Epoch: 8 [12800/50000 (26%)]\tAverage loss: 3.193447, Accuracy: 0.236241\n",
      "Train Epoch: 8 [25600/50000 (51%)]\tAverage loss: 3.203110, Accuracy: 0.233011\n",
      "Train Epoch: 8 [38400/50000 (77%)]\tAverage loss: 3.200185, Accuracy: 0.233985\n",
      "\n",
      "Test set: Average loss: 3.3024, Accuracy: 0.219200\n",
      "\n",
      "# save model: cifar100_ann_model_best_acc_8-epoch.pt\n",
      "\n",
      "Train Epoch: 9 [0/50000 (0%)]\tAverage loss: 3.408135, Accuracy: 0.218750\n",
      "Train Epoch: 9 [12800/50000 (26%)]\tAverage loss: 3.146924, Accuracy: 0.244170\n",
      "Train Epoch: 9 [25600/50000 (51%)]\tAverage loss: 3.131889, Accuracy: 0.247000\n",
      "Train Epoch: 9 [38400/50000 (77%)]\tAverage loss: 3.124883, Accuracy: 0.247894\n",
      "\n",
      "Test set: Average loss: 3.2730, Accuracy: 0.218500\n",
      "\n",
      "# save model: cifar100_ann_model_best_acc_9-epoch.pt\n",
      "\n",
      "Train Epoch: 10 [0/50000 (0%)]\tAverage loss: 3.444855, Accuracy: 0.187500\n",
      "Train Epoch: 10 [12800/50000 (26%)]\tAverage loss: 3.054584, Accuracy: 0.264459\n",
      "Train Epoch: 10 [25600/50000 (51%)]\tAverage loss: 3.061179, Accuracy: 0.261027\n",
      "Train Epoch: 10 [38400/50000 (77%)]\tAverage loss: 3.063316, Accuracy: 0.262375\n",
      "\n",
      "Test set: Average loss: 3.2310, Accuracy: 0.237100\n",
      "\n",
      "# save model: cifar100_ann_model_best_acc_10-epoch.pt\n",
      "\n"
     ]
    }
   ],
   "source": [
    "for epoch in range(1, max_epochs+1):\n",
    "    best_acc = 0\n",
    "    train_loss, train_acc = train(log_interval, model, device, train_loader, optimizer, epoch)\n",
    "    test_loss, test_acc = test(log_interval, model, device, test_loader)\n",
    "\n",
    "    if test_acc > best_acc:\n",
    "        best_acc = test_acc\n",
    "        torch.save(model, os.path.join(workspace_path, f'cifar100_ann_model_best_acc_{epoch}-epoch.pt'))\n",
    "        print(f'# save model: cifar100_ann_model_best_acc_{epoch}-epoch.pt\\n')"
   ]
  },
  {
   "cell_type": "markdown",
   "metadata": {
    "id": "XKT8XaZhVsxY"
   },
   "source": [
    "**Batch_size 64일경우**\n",
    "Test set: Average loss: 3.3468, Accuracy: 0.208400\n",
    "\n",
    "**Batch_size 128일경우**\n",
    "Test set: Average loss: 3.5459, Accuracy: 0.171700\n",
    "\n",
    "**Batch_size 32일경우**\n",
    "Test set: Average loss: 3.2338, Accuracy: 0.231200\n",
    "\n",
    "**self.fc1 = nn.Linear(32*32*3,512) ,self.fc2 = nn.Linear(512,256),self.fc3 = nn.Linear(256,100) 일 경우**\n",
    "Test set: Average loss: 3.2310, Accuracy: 0.237100\n"
   ]
  },
  {
   "cell_type": "code",
   "execution_count": null,
   "metadata": {
    "id": "DcjADyW6crhT"
   },
   "outputs": [],
   "source": []
  }
 ],
 "metadata": {
  "colab": {
   "collapsed_sections": [],
   "name": "CVG_과제4_30201062_박용현.ipynb",
   "provenance": []
  },
  "kernelspec": {
   "display_name": "Python 3",
   "language": "python",
   "name": "python3"
  },
  "language_info": {
   "codemirror_mode": {
    "name": "ipython",
    "version": 3
   },
   "file_extension": ".py",
   "mimetype": "text/x-python",
   "name": "python",
   "nbconvert_exporter": "python",
   "pygments_lexer": "ipython3",
   "version": "3.8.5"
  },
  "toc": {
   "base_numbering": 1,
   "nav_menu": {},
   "number_sections": true,
   "sideBar": true,
   "skip_h1_title": false,
   "title_cell": "Table of Contents",
   "title_sidebar": "Contents",
   "toc_cell": false,
   "toc_position": {},
   "toc_section_display": true,
   "toc_window_display": false
  },
  "varInspector": {
   "cols": {
    "lenName": 16,
    "lenType": 16,
    "lenVar": 40
   },
   "kernels_config": {
    "python": {
     "delete_cmd_postfix": "",
     "delete_cmd_prefix": "del ",
     "library": "var_list.py",
     "varRefreshCmd": "print(var_dic_list())"
    },
    "r": {
     "delete_cmd_postfix": ") ",
     "delete_cmd_prefix": "rm(",
     "library": "var_list.r",
     "varRefreshCmd": "cat(var_dic_list()) "
    }
   },
   "types_to_exclude": [
    "module",
    "function",
    "builtin_function_or_method",
    "instance",
    "_Feature"
   ],
   "window_display": false
  }
 },
 "nbformat": 4,
 "nbformat_minor": 1
}

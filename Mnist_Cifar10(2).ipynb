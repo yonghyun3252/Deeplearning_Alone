{
 "cells": [
  {
   "cell_type": "code",
   "execution_count": null,
   "metadata": {
    "colab": {
     "base_uri": "https://localhost:8080/"
    },
    "id": "NDynlTL_89Mn",
    "outputId": "ace28150-47c5-4848-8fdd-bd84323aa48f"
   },
   "outputs": [
    {
     "name": "stdout",
     "output_type": "stream",
     "text": [
      "Drive already mounted at /gdrive; to attempt to forcibly remount, call drive.mount(\"/gdrive\", force_remount=True).\n"
     ]
    }
   ],
   "source": [
    "from google.colab import drive\n",
    "drive.mount('/gdrive')"
   ]
  },
  {
   "cell_type": "code",
   "execution_count": null,
   "metadata": {
    "id": "RwFdSgIi9X9Z"
   },
   "outputs": [],
   "source": [
    "workspace_path = '/gdrive/My Drive/Colab Notebooks'"
   ]
  },
  {
   "cell_type": "code",
   "execution_count": null,
   "metadata": {
    "id": "KZ1noPTi9sbp"
   },
   "outputs": [],
   "source": [
    "import torch\n",
    "import torch.nn as nn\n",
    "import torch.nn.functional as F\n",
    "import torch.optim as optim\n",
    "from torchvision import datasets, transforms\n",
    "import os\n",
    "import random\n",
    "import numpy as np\n",
    "import matplotlib.pyplot as plt"
   ]
  },
  {
   "cell_type": "code",
   "execution_count": null,
   "metadata": {
    "id": "c2edVP_6-IHp"
   },
   "outputs": [],
   "source": [
    "seed = 719 # seed를 따로 설정을 하지 않으면 random number가 부여가 되므로 설정을 해야한다.\n",
    "random.seed(seed)\n",
    "os.environ['PYTHONHASHSEED'] = str(seed)\n",
    "np.random.seed(seed)\n",
    "torch.manual_seed(seed)\n",
    "torch.cuda.manual_seed(seed)\n",
    "torch.backends.cudnn.deterministic=True\n",
    "torch.backends.cudnn.benchmark=True"
   ]
  },
  {
   "cell_type": "code",
   "execution_count": null,
   "metadata": {
    "colab": {
     "base_uri": "https://localhost:8080/"
    },
    "id": "EGoHvOU9_v5l",
    "outputId": "c073ff18-538e-42ba-f26d-941e314a7336"
   },
   "outputs": [
    {
     "name": "stdout",
     "output_type": "stream",
     "text": [
      "init model done\n"
     ]
    }
   ],
   "source": [
    "class Net(nn.Module):\n",
    "    def __init__(self):\n",
    "        super(Net, self).__init__()\n",
    "        self.main = nn.Sequential(\n",
    "            nn.Conv2d(in_channels=1, out_channels=10, kernel_size=3,\n",
    "                      stride=1, padding=1, bias=False),  # 1x28x28 -> 10x28x28\n",
    "            nn.BatchNorm2d(10),\n",
    "            nn.ReLU(inplace=True),\n",
    "            nn.Conv2d(in_channels=10, out_channels=20, kernel_size=3,\n",
    "                      stride=1, padding=1, bias=False),  # 10x28x28 -> 20x28x28, bias =  False로 잡는 이유 : batchNormalizaion에 포함되어있으므로\n",
    "            nn.BatchNorm2d(20),\n",
    "            nn.ReLU(inplace=True), # 값 자체를 메모리 공간에서 연산수행\n",
    "            nn.MaxPool2d(kernel_size=2),  # 20x28x28 -> 20x14x14 (2배로 특징 압축)\n",
    "            nn.Conv2d(in_channels=20, out_channels=40, kernel_size=3, # 채널 수 총 40\n",
    "                      stride=1, padding=1, bias=False),  # 20x14x14 -> 40x14x14\n",
    "            nn.BatchNorm2d(40),\n",
    "            nn.ReLU(inplace=True),\n",
    "            nn.MaxPool2d(kernel_size=2),  # 40x14x14 -> 40x7x7 (이미지 축소 후 특징 압축)\n",
    "            nn.Conv2d(in_channels=40, out_channels=80, kernel_size=3, # 채널 총 80\n",
    "                      stride=1, padding=1, bias=False),  # 40x7x7 -> 80x7x7\n",
    "            nn.BatchNorm2d(80),\n",
    "            nn.AdaptiveAvgPool2d(1)  # 2d디멘션 값을 평균값으로, 80x7x7 -> 80x1x1 (채널 별 평균값 계산), 하나의 값으로 pooling\n",
    "        )\n",
    "        self.fc = nn.Linear(80, 10)  # MNIST 10종 판별\n",
    "\n",
    "    def forward(self, x):\n",
    "        x = x.float()\n",
    "        x = x.view(-1, 1, 28, 28)  # view 함수로 형태를 reshape (채널이 1이고 28x28 이미지고, -1 = 배치개수만큼 반영을 해준다) [batch크기, 1, 28,28]\n",
    "        x = self.main(x)\n",
    "        x = x.view(-1, 80)  # [batch크기, 80]\n",
    "        x = self.fc(x)\n",
    "        return x\n",
    "\n",
    "print(\"init model done\")"
   ]
  },
  {
   "cell_type": "code",
   "execution_count": null,
   "metadata": {
    "colab": {
     "base_uri": "https://localhost:8080/"
    },
    "id": "RHwh5kUPD2zh",
    "outputId": "a905f925-3613-4245-f5be-51bf213799e0"
   },
   "outputs": [
    {
     "name": "stdout",
     "output_type": "stream",
     "text": [
      "set vars and device done\n"
     ]
    }
   ],
   "source": [
    "batch_size = 64\n",
    "test_batch_size = 1000\n",
    "max_epochs = 10\n",
    "lr = 0.01\n",
    "momentum = 0.5\n",
    "log_interval = 200\n",
    "use_cuda = torch.cuda.is_available()\n",
    "device = torch.device(\"cuda\" if use_cuda else \"cpu\")\n",
    "kwargs = {'num_workers':1, 'pin_memory':True} if use_cuda else {}\n",
    "print(\"set vars and device done\")"
   ]
  },
  {
   "cell_type": "code",
   "execution_count": null,
   "metadata": {
    "id": "LvhDpzAnb7yu"
   },
   "outputs": [],
   "source": [
    "transform = transforms.Compose([\n",
    "                                transforms.ToTensor(), # numpy --> tensor로 변환\n",
    "                                transforms.Normalize((0.5,), (0.5,)) # 일반적으로 (학습데이터셋 평균, 표준편차)\n",
    "])\n",
    "\n",
    "#학습용 데이터 가져오기\n",
    "train_loader = torch.utils.data.DataLoader(\n",
    "    datasets.MNIST(os.path.join(workspace_path, 'data'), train=True, download=True, transform=transform),\n",
    "    batch_size = batch_size, shuffle=True, drop_last = True, **kwargs)\n",
    "\n",
    "#테스트용 데이터 가져오기\n",
    "test_loader = torch.utils.data.DataLoader(\n",
    "    datasets.MNIST(os.path.join(workspace_path, 'data'), train=False, download=True, transform=transform), # drop_last의 default값이 false이므로 정의 하지 않음.\n",
    "    batch_size=test_batch_size, shuffle = False, **kwargs\n",
    ")"
   ]
  },
  {
   "cell_type": "code",
   "execution_count": null,
   "metadata": {
    "colab": {
     "base_uri": "https://localhost:8080/",
     "height": 449
    },
    "id": "Lawf5VFjxUex",
    "outputId": "bd1ee0ae-aea2-4d73-cd2a-6fbf5a5569bc"
   },
   "outputs": [
    {
     "data": {
      "text/plain": [
       "<Figure size 432x288 with 0 Axes>"
      ]
     },
     "metadata": {
      "tags": []
     },
     "output_type": "display_data"
    },
    {
     "data": {
      "image/png": "[encoded data removed]",
      "text/plain": [
       "<Figure size 1152x504 with 15 Axes>"
      ]
     },
     "metadata": {
      "needs_background": "light",
      "tags": []
     },
     "output_type": "display_data"
    }
   ],
   "source": [
    "plt.gray()\n",
    "fig = plt.figure( figsize=(16,7) )\n",
    "for i in range(0,15):\n",
    "    data, _ = train_loader.dataset[i]\n",
    "    data = data.numpy()\n",
    "    ax = fig.add_subplot(3,5,i+1, title=\"\")\n",
    "    ax.matshow(data.reshape((28,28)).astype(float))\n",
    "plt.show()"
   ]
  },
  {
   "cell_type": "code",
   "execution_count": null,
   "metadata": {
    "id": "44Dc7H1nzB76"
   },
   "outputs": [],
   "source": [
    "model = Net().to(device) # 모델정의\n",
    "optimizer = optim.SGD(model.parameters(), lr=lr, momentum=momentum) # 최적화 알고리즘 정의\n",
    "criterion = nn.CrossEntropyLoss()"
   ]
  },
  {
   "cell_type": "code",
   "execution_count": null,
   "metadata": {
    "id": "46_PcQbqzHLg"
   },
   "outputs": [],
   "source": [
    "class AverageMeter(object): # 수치값 저장에 용이하도록 클래스 지정\n",
    "  \"\"\"Computes and stores the average and current value\"\"\"\n",
    "  def __init__(self):\n",
    "        self.reset()\n",
    "\n",
    "  def reset(self):\n",
    "        self.val = 0\n",
    "        self.avg = 0\n",
    "        self.sum = 0\n",
    "        self.count = 0\n",
    "\n",
    "  def update(self, val, n=1):\n",
    "        self.val = val\n",
    "        self.sum += val * n\n",
    "        self.count += n\n",
    "        self.avg = self.sum / self.count"
   ]
  },
  {
   "cell_type": "code",
   "execution_count": null,
   "metadata": {
    "id": "56yMOEhq0A9m"
   },
   "outputs": [],
   "source": [
    "def train(log_interval, model, device, train_loader, optimizer, epoch):\n",
    "    model.train()\n",
    "    summary_loss = AverageMeter()\n",
    "    summary_acc = AverageMeter()\n",
    "    for batch_idx, (data, target) in enumerate(train_loader):\n",
    "        data, target = data.to(device), target.to(device)\n",
    "        optimizer.zero_grad()\n",
    "        output = model(data)\n",
    "        loss = criterion(output, target)\n",
    "        loss.backward()\n",
    "        optimizer.step()\n",
    "        summary_loss.update(loss.detach().item())\n",
    "        pred = output.argmax(dim=1, keepdim=True)\n",
    "        correct = pred.eq(target.view_as(pred)).sum().item()\n",
    "        summary_acc.update(correct / data.size(0))\n",
    "        if batch_idx % log_interval == 0:\n",
    "            print('Train Epoch: {} [{}/{} ({:.0f}%)]\\tAverage loss: {:.6f}, Accuracy: {:.6f}'.format(\n",
    "                epoch, batch_idx * len(data), len(train_loader.dataset),\n",
    "                100. * batch_idx / len(train_loader), summary_loss.avg, summary_acc.avg))\n",
    "            \n",
    "    return summary_loss.avg, summary_acc.avg\n",
    "\n",
    "def test(log_interval, model, device, test_loader):\n",
    "    model.eval()\n",
    "    summary_loss = AverageMeter()\n",
    "    summary_acc = AverageMeter()\n",
    "    with torch.no_grad():\n",
    "        for data, target in test_loader:\n",
    "            data, target = data.to(device), target.to(device)\n",
    "            output = model(data)\n",
    "            loss = criterion(output, target)\n",
    "            summary_loss.update(loss.detach().item())\n",
    "            pred = output.argmax(dim=1, keepdim=True)\n",
    "            correct = pred.eq(target.view_as(pred)).sum().item()\n",
    "            summary_acc.update(correct / data.size(0))\n",
    "\n",
    "    print('\\nTest set: Average loss: {:.4f}, Accuracy: {:.6f}\\n'.format\n",
    "          (summary_loss.avg, summary_acc.avg))\n",
    "\n",
    "    return summary_loss.avg, summary_acc.avg"
   ]
  },
  {
   "cell_type": "code",
   "execution_count": null,
   "metadata": {
    "colab": {
     "base_uri": "https://localhost:8080/"
    },
    "id": "Xlqo8IoJ0DMw",
    "outputId": "54b9d698-367e-4a5c-87a2-ee8a8b8a8975"
   },
   "outputs": [
    {
     "name": "stdout",
     "output_type": "stream",
     "text": [
      "Train Epoch: 1 [0/60000 (0%)]\tAverage loss: 2.340623, Accuracy: 0.000000\n",
      "Train Epoch: 1 [12800/60000 (21%)]\tAverage loss: 1.756628, Accuracy: 0.407649\n",
      "Train Epoch: 1 [25600/60000 (43%)]\tAverage loss: 1.408700, Accuracy: 0.559305\n",
      "Train Epoch: 1 [38400/60000 (64%)]\tAverage loss: 1.132640, Accuracy: 0.667195\n",
      "Train Epoch: 1 [51200/60000 (85%)]\tAverage loss: 0.942565, Accuracy: 0.731605\n",
      "\n",
      "Test set: Average loss: 0.3589, Accuracy: 0.894600\n",
      "\n",
      "# save model: mnist_cnn_model_best_acc_1-epoch.pt\n",
      "\n",
      "Train Epoch: 2 [0/60000 (0%)]\tAverage loss: 0.363089, Accuracy: 0.890625\n",
      "Train Epoch: 2 [12800/60000 (21%)]\tAverage loss: 0.244934, Accuracy: 0.945118\n",
      "Train Epoch: 2 [25600/60000 (43%)]\tAverage loss: 0.229199, Accuracy: 0.946852\n",
      "Train Epoch: 2 [38400/60000 (64%)]\tAverage loss: 0.213536, Accuracy: 0.949615\n",
      "Train Epoch: 2 [51200/60000 (85%)]\tAverage loss: 0.200313, Accuracy: 0.952618\n",
      "\n",
      "Test set: Average loss: 0.1988, Accuracy: 0.944500\n",
      "\n",
      "# save model: mnist_cnn_model_best_acc_2-epoch.pt\n",
      "\n",
      "Train Epoch: 3 [0/60000 (0%)]\tAverage loss: 0.228430, Accuracy: 0.921875\n",
      "Train Epoch: 3 [12800/60000 (21%)]\tAverage loss: 0.138265, Accuracy: 0.965096\n",
      "Train Epoch: 3 [25600/60000 (43%)]\tAverage loss: 0.137154, Accuracy: 0.964698\n",
      "Train Epoch: 3 [38400/60000 (64%)]\tAverage loss: 0.131554, Accuracy: 0.966072\n",
      "Train Epoch: 3 [51200/60000 (85%)]\tAverage loss: 0.128654, Accuracy: 0.967092\n",
      "\n",
      "Test set: Average loss: 0.1170, Accuracy: 0.967500\n",
      "\n",
      "# save model: mnist_cnn_model_best_acc_3-epoch.pt\n",
      "\n",
      "Train Epoch: 4 [0/60000 (0%)]\tAverage loss: 0.080791, Accuracy: 0.968750\n",
      "Train Epoch: 4 [12800/60000 (21%)]\tAverage loss: 0.105201, Accuracy: 0.972170\n",
      "Train Epoch: 4 [25600/60000 (43%)]\tAverage loss: 0.103663, Accuracy: 0.972958\n",
      "Train Epoch: 4 [38400/60000 (64%)]\tAverage loss: 0.103012, Accuracy: 0.972676\n",
      "Train Epoch: 4 [51200/60000 (85%)]\tAverage loss: 0.102237, Accuracy: 0.973022\n",
      "\n",
      "Test set: Average loss: 0.1011, Accuracy: 0.969800\n",
      "\n",
      "# save model: mnist_cnn_model_best_acc_4-epoch.pt\n",
      "\n",
      "Train Epoch: 5 [0/60000 (0%)]\tAverage loss: 0.034921, Accuracy: 1.000000\n",
      "Train Epoch: 5 [12800/60000 (21%)]\tAverage loss: 0.090455, Accuracy: 0.975591\n",
      "Train Epoch: 5 [25600/60000 (43%)]\tAverage loss: 0.088130, Accuracy: 0.976036\n",
      "Train Epoch: 5 [38400/60000 (64%)]\tAverage loss: 0.087987, Accuracy: 0.976368\n",
      "Train Epoch: 5 [51200/60000 (85%)]\tAverage loss: 0.085629, Accuracy: 0.976943\n",
      "\n",
      "Test set: Average loss: 0.1084, Accuracy: 0.967500\n",
      "\n",
      "# save model: mnist_cnn_model_best_acc_5-epoch.pt\n",
      "\n",
      "Train Epoch: 6 [0/60000 (0%)]\tAverage loss: 0.068309, Accuracy: 0.984375\n",
      "Train Epoch: 6 [12800/60000 (21%)]\tAverage loss: 0.074023, Accuracy: 0.980022\n",
      "Train Epoch: 6 [25600/60000 (43%)]\tAverage loss: 0.076458, Accuracy: 0.978803\n",
      "Train Epoch: 6 [38400/60000 (64%)]\tAverage loss: 0.073625, Accuracy: 0.979513\n",
      "Train Epoch: 6 [51200/60000 (85%)]\tAverage loss: 0.074222, Accuracy: 0.979674\n",
      "\n",
      "Test set: Average loss: 0.0788, Accuracy: 0.974500\n",
      "\n",
      "# save model: mnist_cnn_model_best_acc_6-epoch.pt\n",
      "\n",
      "Train Epoch: 7 [0/60000 (0%)]\tAverage loss: 0.050459, Accuracy: 0.984375\n",
      "Train Epoch: 7 [12800/60000 (21%)]\tAverage loss: 0.065569, Accuracy: 0.981343\n",
      "Train Epoch: 7 [25600/60000 (43%)]\tAverage loss: 0.067956, Accuracy: 0.981336\n",
      "Train Epoch: 7 [38400/60000 (64%)]\tAverage loss: 0.068381, Accuracy: 0.980995\n",
      "Train Epoch: 7 [51200/60000 (85%)]\tAverage loss: 0.067659, Accuracy: 0.981507\n",
      "\n",
      "Test set: Average loss: 0.1415, Accuracy: 0.958200\n",
      "\n",
      "# save model: mnist_cnn_model_best_acc_7-epoch.pt\n",
      "\n",
      "Train Epoch: 8 [0/60000 (0%)]\tAverage loss: 0.068045, Accuracy: 0.968750\n",
      "Train Epoch: 8 [12800/60000 (21%)]\tAverage loss: 0.057923, Accuracy: 0.983986\n",
      "Train Epoch: 8 [25600/60000 (43%)]\tAverage loss: 0.058766, Accuracy: 0.983791\n",
      "Train Epoch: 8 [38400/60000 (64%)]\tAverage loss: 0.059625, Accuracy: 0.983179\n",
      "Train Epoch: 8 [51200/60000 (85%)]\tAverage loss: 0.060188, Accuracy: 0.983107\n",
      "\n",
      "Test set: Average loss: 0.0940, Accuracy: 0.971500\n",
      "\n",
      "# save model: mnist_cnn_model_best_acc_8-epoch.pt\n",
      "\n",
      "Train Epoch: 9 [0/60000 (0%)]\tAverage loss: 0.021852, Accuracy: 1.000000\n",
      "Train Epoch: 9 [12800/60000 (21%)]\tAverage loss: 0.053055, Accuracy: 0.986007\n",
      "Train Epoch: 9 [25600/60000 (43%)]\tAverage loss: 0.053113, Accuracy: 0.985778\n",
      "Train Epoch: 9 [38400/60000 (64%)]\tAverage loss: 0.053876, Accuracy: 0.985337\n",
      "Train Epoch: 9 [51200/60000 (85%)]\tAverage loss: 0.054424, Accuracy: 0.984882\n",
      "\n",
      "Test set: Average loss: 0.0893, Accuracy: 0.974100\n",
      "\n",
      "# save model: mnist_cnn_model_best_acc_9-epoch.pt\n",
      "\n",
      "Train Epoch: 10 [0/60000 (0%)]\tAverage loss: 0.062524, Accuracy: 0.968750\n",
      "Train Epoch: 10 [12800/60000 (21%)]\tAverage loss: 0.054017, Accuracy: 0.984764\n",
      "Train Epoch: 10 [25600/60000 (43%)]\tAverage loss: 0.052009, Accuracy: 0.985661\n",
      "Train Epoch: 10 [38400/60000 (64%)]\tAverage loss: 0.051378, Accuracy: 0.985883\n",
      "Train Epoch: 10 [51200/60000 (85%)]\tAverage loss: 0.050330, Accuracy: 0.986189\n",
      "\n",
      "Test set: Average loss: 0.0684, Accuracy: 0.979000\n",
      "\n",
      "# save model: mnist_cnn_model_best_acc_10-epoch.pt\n",
      "\n",
      "\n",
      "\n",
      "# Best accuracy model(97.90%): mnist_cnn_model_best_acc_10-epoch.pt\n",
      "\n"
     ]
    }
   ],
   "source": [
    "for epoch in range(1, max_epochs+1):\n",
    "    best_acc = 0\n",
    "    best_epoch = 0\n",
    "    train_loss, train_acc = train(log_interval, model, device, train_loader, optimizer, epoch)\n",
    "    test_loss, test_acc = test(log_interval, model, device, test_loader)\n",
    "\n",
    "   \n",
    "    if test_acc > best_acc:\n",
    "        best_acc = test_acc\n",
    "        best_epoch = epoch\n",
    "        torch.save(model, os.path.join(workspace_path, f'mnist_cnn_model_best_acc_{best_epoch}-epoch.pt'))\n",
    "        print(f'# save model: mnist_cnn_model_best_acc_{best_epoch}-epoch.pt\\n')\n",
    "\n",
    "print(f'\\n\\n# Best accuracy model({best_acc * 100:.2f}%): mnist_cnn_model_best_acc_{best_epoch}-epoch.pt\\n')"
   ]
  },
  {
   "cell_type": "markdown",
   "metadata": {
    "id": "F4rosD01P3Ek"
   },
   "source": [
    "# **CIFAR10**"
   ]
  },
  {
   "cell_type": "code",
   "execution_count": null,
   "metadata": {
    "colab": {
     "base_uri": "https://localhost:8080/"
    },
    "id": "i5SPLolgQSQN",
    "outputId": "c11522e1-423c-4489-8fb3-8804b7692678"
   },
   "outputs": [
    {
     "name": "stdout",
     "output_type": "stream",
     "text": [
      "Drive already mounted at /gdrive; to attempt to forcibly remount, call drive.mount(\"/gdrive\", force_remount=True).\n"
     ]
    }
   ],
   "source": [
    "from google.colab import drive\n",
    "drive.mount('/gdrive')"
   ]
  },
  {
   "cell_type": "code",
   "execution_count": null,
   "metadata": {
    "id": "usYApzPlQWyC"
   },
   "outputs": [],
   "source": [
    "workspace_path = '/gdrive/My Drive/Colab Notebooks'"
   ]
  },
  {
   "cell_type": "code",
   "execution_count": null,
   "metadata": {
    "id": "MgyvN_wZQdFJ"
   },
   "outputs": [],
   "source": [
    "import torch\n",
    "import torch.nn as nn\n",
    "import torch.nn.functional as F\n",
    "import torch.optim as optim\n",
    "from torchvision import datasets, transforms\n",
    "import os\n",
    "import random\n",
    "import numpy as np\n",
    "import matplotlib.pyplot as plt"
   ]
  },
  {
   "cell_type": "code",
   "execution_count": null,
   "metadata": {
    "id": "kD5-cmWiQttW"
   },
   "outputs": [],
   "source": [
    "seed = 719\n",
    "random.seed(seed)\n",
    "os.environ['PYTHONHASHSEED'] = str(seed)\n",
    "np.random.seed(seed)\n",
    "torch.manual_seed(seed)\n",
    "torch.cuda.manual_seed(seed)\n",
    "torch.backends.cudnn.deterministic = True\n",
    "torch.backends.cudnn.benchmark=True"
   ]
  },
  {
   "cell_type": "code",
   "execution_count": null,
   "metadata": {
    "colab": {
     "base_uri": "https://localhost:8080/"
    },
    "id": "meKutaBtQyoW",
    "outputId": "634f025d-fe4f-4169-8a2a-5ed6fb263ee0"
   },
   "outputs": [
    {
     "name": "stdout",
     "output_type": "stream",
     "text": [
      "init model done\n"
     ]
    }
   ],
   "source": [
    "class Net(nn.Module):\n",
    "  def __init__(self):\n",
    "    super(Net, self).__init__()\n",
    "    self.main = nn.Sequential(\n",
    "        nn.Conv2d(in_channels=3, out_channels=10,kernel_size=3,stride=1, padding=1, bias=False), nn.BatchNorm2d(10), nn.ReLU(inplace=True),\n",
    "        nn.Conv2d(in_channels=10, out_channels=20, kernel_size=3,stride=1, padding=1, bias=False), nn.BatchNorm2d(20), nn.ReLU(inplace=True), nn.MaxPool2d(kernel_size=2),\n",
    "        nn.Conv2d(in_channels=20, out_channels=40, kernel_size=3, stride=1, padding=1, bias=False), nn.BatchNorm2d(40), nn.ReLU(inplace=True), nn.MaxPool2d(kernel_size=2),\n",
    "        nn.Conv2d(in_channels=40, out_channels=80, kernel_size=3, stride=1, padding=1, bias=False), nn.BatchNorm2d(80), nn.AdaptiveAvgPool2d(1)\n",
    "    )\n",
    "    self.fc = nn.Linear(80,10)\n",
    "  \n",
    "  def forward(self, x):\n",
    "        x = x.float()\n",
    "        x = x.view(-1, 3, 32, 32) \n",
    "        x = self.main(x) \n",
    "        x = x.view(-1, 80) \n",
    "        x = self.fc(x)\n",
    "        return x\n",
    "\n",
    "print(\"init model done\")"
   ]
  },
  {
   "cell_type": "code",
   "execution_count": null,
   "metadata": {
    "colab": {
     "base_uri": "https://localhost:8080/"
    },
    "id": "uqjQe6m8SQTs",
    "outputId": "e6060838-10b8-42c8-a803-6aef6e86e769"
   },
   "outputs": [
    {
     "name": "stdout",
     "output_type": "stream",
     "text": [
      "set vars and device done\n"
     ]
    }
   ],
   "source": [
    "batch_size = 64  # 학습 배치 크기\n",
    "test_batch_size = 1000  # 테스트 배치 크기 (학습 과정을 제외하므로 더 큰 배치 사용 가능)\n",
    "max_epochs = 10  # 학습 데이터셋 총 훈련 횟수\n",
    "lr = 0.01  # 학습률\n",
    "momentum = 0.5  # SGD에 사용할 모멘텀 설정 (파라미터 업데이트 시 관성 효과 사용)\n",
    "log_interval = 200  # interval 때마다 로그 남김\n",
    "\n",
    "use_cuda = torch.cuda.is_available()  # GPU cuda 사용 여부 확인\n",
    "\n",
    "device = torch.device(\"cuda\" if use_cuda else \"cpu\")  # GPU cuda 사용하거나 없다면 CPU 사용\n",
    "\n",
    "kwargs = {'num_workers': 1, 'pin_memory': True} if use_cuda else {}  # num_workers: data loading할 프로세스 수, pin_memory: 고정된 메모리 영역 사용\n",
    "\n",
    "print(\"set vars and device done\")"
   ]
  },
  {
   "cell_type": "code",
   "execution_count": null,
   "metadata": {
    "colab": {
     "base_uri": "https://localhost:8080/"
    },
    "id": "grBpxKCuSUSO",
    "outputId": "2c0326b9-47f1-49d7-9e23-0bff90b7ff2a"
   },
   "outputs": [
    {
     "name": "stdout",
     "output_type": "stream",
     "text": [
      "Files already downloaded and verified\n",
      "Files already downloaded and verified\n"
     ]
    }
   ],
   "source": [
    "transform = transforms.Compose([\n",
    "                 transforms.ToTensor(),\n",
    "                 transforms.Normalize((0.5, 0.5, 0.5), (0.5, 0.5, 0.5))])\n",
    "\n",
    "\n",
    "train_loader = torch.utils.data.DataLoader(\n",
    "  datasets.CIFAR10(os.path.join(workspace_path, 'data'), train=True, download=True, \n",
    "                   transform=transform), \n",
    "    batch_size = batch_size, shuffle=True, drop_last=True, **kwargs)\n",
    "\n",
    "\n",
    "test_loader = torch.utils.data.DataLoader(\n",
    "        datasets.CIFAR10(os.path.join(workspace_path, 'data'), train=False, download=True,\n",
    "                         transform=transform), \n",
    "    batch_size=test_batch_size, shuffle=False, **kwargs)"
   ]
  },
  {
   "cell_type": "code",
   "execution_count": null,
   "metadata": {
    "id": "z2DyMQwySZBd"
   },
   "outputs": [],
   "source": [
    "model = Net().to(device)\n",
    "optimizer = optim.SGD(model.parameters(), lr=lr, momentum=momentum)\n",
    "criterion = nn.CrossEntropyLoss()"
   ]
  },
  {
   "cell_type": "code",
   "execution_count": null,
   "metadata": {
    "id": "rUCj0aYhSetL"
   },
   "outputs": [],
   "source": [
    "class AverageMeter(object):\n",
    "    \"\"\"Computes and stores the average and current value\"\"\"\n",
    "    def __init__(self):\n",
    "        self.reset()\n",
    "\n",
    "    def reset(self):\n",
    "        self.val = 0\n",
    "        self.avg = 0\n",
    "        self.sum = 0\n",
    "        self.count = 0\n",
    "\n",
    "    def update(self, val, n=1):\n",
    "        self.val = val\n",
    "        self.sum += val * n\n",
    "        self.count += n\n",
    "        self.avg = self.sum / self.count"
   ]
  },
  {
   "cell_type": "code",
   "execution_count": null,
   "metadata": {
    "id": "4Y1uaO87SgQH"
   },
   "outputs": [],
   "source": [
    "def train(log_interval, model, device, train_loader, optimizer, epoch):\n",
    "    model.train()\n",
    "    summary_loss = AverageMeter()\n",
    "    summary_acc = AverageMeter()\n",
    "    for batch_idx, (data, target) in enumerate(train_loader):\n",
    "        data, target = data.to(device), target.to(device)\n",
    "        optimizer.zero_grad()\n",
    "        output = model(data)\n",
    "        loss = criterion(output, target)\n",
    "        loss.backward()\n",
    "        optimizer.step()\n",
    "        summary_loss.update(loss.detach().item())\n",
    "        pred = output.argmax(dim=1, keepdim=True)\n",
    "        correct = pred.eq(target.view_as(pred)).sum().item()\n",
    "        summary_acc.update(correct / data.size(0))\n",
    "        if batch_idx % log_interval == 0:\n",
    "            print('Train Epoch: {} [{}/{} ({:.0f}%)]\\tAverage loss: {:.6f}, Accuracy: {:.6f}'.format(\n",
    "                epoch, batch_idx * len(data), len(train_loader.dataset),\n",
    "                100. * batch_idx / len(train_loader), summary_loss.avg, summary_acc.avg))\n",
    "            \n",
    "    return summary_loss.avg, summary_acc.avg\n",
    "\n",
    "def test(log_interval, model, device, test_loader):\n",
    "    model.eval()\n",
    "    summary_loss = AverageMeter()\n",
    "    summary_acc = AverageMeter()\n",
    "    with torch.no_grad():\n",
    "        for data, target in test_loader:\n",
    "            data, target = data.to(device), target.to(device)\n",
    "            output = model(data)\n",
    "            loss = criterion(output, target)\n",
    "            summary_loss.update(loss.detach().item())\n",
    "            pred = output.argmax(dim=1, keepdim=True)\n",
    "            correct = pred.eq(target.view_as(pred)).sum().item()\n",
    "            summary_acc.update(correct / data.size(0))\n",
    "\n",
    "    print('\\nTest set: Average loss: {:.4f}, Accuracy: {:.6f}\\n'.format\n",
    "          (summary_loss.avg, summary_acc.avg))\n",
    "\n",
    "    return summary_loss.avg, summary_acc.avg"
   ]
  },
  {
   "cell_type": "code",
   "execution_count": null,
   "metadata": {
    "colab": {
     "base_uri": "https://localhost:8080/"
    },
    "id": "mW85LDQUSjdF",
    "outputId": "7531047c-b998-4a79-a08e-7b3ae92e5742"
   },
   "outputs": [
    {
     "name": "stdout",
     "output_type": "stream",
     "text": [
      "Train Epoch: 1 [0/50000 (0%)]\tAverage loss: 2.320818, Accuracy: 0.109375\n",
      "Train Epoch: 1 [12800/50000 (26%)]\tAverage loss: 1.856365, Accuracy: 0.311334\n",
      "Train Epoch: 1 [25600/50000 (51%)]\tAverage loss: 1.742979, Accuracy: 0.357972\n",
      "Train Epoch: 1 [38400/50000 (77%)]\tAverage loss: 1.678803, Accuracy: 0.386101\n",
      "\n",
      "Test set: Average loss: 1.5780, Accuracy: 0.425600\n",
      "\n",
      "# save model: cifar10_cnn_model_best_acc_1-epoch.pt\n",
      "\n",
      "Train Epoch: 2 [0/50000 (0%)]\tAverage loss: 1.353207, Accuracy: 0.593750\n",
      "Train Epoch: 2 [12800/50000 (26%)]\tAverage loss: 1.403444, Accuracy: 0.502643\n",
      "Train Epoch: 2 [25600/50000 (51%)]\tAverage loss: 1.398757, Accuracy: 0.503741\n",
      "Train Epoch: 2 [38400/50000 (77%)]\tAverage loss: 1.378675, Accuracy: 0.510685\n",
      "\n",
      "Test set: Average loss: 1.2993, Accuracy: 0.526100\n",
      "\n",
      "# save model: cifar10_cnn_model_best_acc_2-epoch.pt\n",
      "\n",
      "Train Epoch: 3 [0/50000 (0%)]\tAverage loss: 1.166721, Accuracy: 0.625000\n",
      "Train Epoch: 3 [12800/50000 (26%)]\tAverage loss: 1.293842, Accuracy: 0.539335\n",
      "Train Epoch: 3 [25600/50000 (51%)]\tAverage loss: 1.269586, Accuracy: 0.549875\n",
      "Train Epoch: 3 [38400/50000 (77%)]\tAverage loss: 1.260990, Accuracy: 0.554285\n",
      "\n",
      "Test set: Average loss: 1.4103, Accuracy: 0.479800\n",
      "\n",
      "Train Epoch: 4 [0/50000 (0%)]\tAverage loss: 1.351885, Accuracy: 0.437500\n",
      "Train Epoch: 4 [12800/50000 (26%)]\tAverage loss: 1.197221, Accuracy: 0.580379\n",
      "Train Epoch: 4 [25600/50000 (51%)]\tAverage loss: 1.187729, Accuracy: 0.582138\n",
      "Train Epoch: 4 [38400/50000 (77%)]\tAverage loss: 1.179297, Accuracy: 0.584313\n",
      "\n",
      "Test set: Average loss: 1.6832, Accuracy: 0.455800\n",
      "\n",
      "Train Epoch: 5 [0/50000 (0%)]\tAverage loss: 1.244860, Accuracy: 0.593750\n",
      "Train Epoch: 5 [12800/50000 (26%)]\tAverage loss: 1.125501, Accuracy: 0.601679\n",
      "Train Epoch: 5 [25600/50000 (51%)]\tAverage loss: 1.117044, Accuracy: 0.603725\n",
      "Train Epoch: 5 [38400/50000 (77%)]\tAverage loss: 1.107761, Accuracy: 0.609115\n",
      "\n",
      "Test set: Average loss: 1.4126, Accuracy: 0.504400\n",
      "\n",
      "Train Epoch: 6 [0/50000 (0%)]\tAverage loss: 1.045687, Accuracy: 0.593750\n",
      "Train Epoch: 6 [12800/50000 (26%)]\tAverage loss: 1.074462, Accuracy: 0.622512\n",
      "Train Epoch: 6 [25600/50000 (51%)]\tAverage loss: 1.067329, Accuracy: 0.623519\n",
      "Train Epoch: 6 [38400/50000 (77%)]\tAverage loss: 1.061135, Accuracy: 0.624636\n",
      "\n",
      "Test set: Average loss: 1.0756, Accuracy: 0.616500\n",
      "\n",
      "# save model: cifar10_cnn_model_best_acc_6-epoch.pt\n",
      "\n",
      "Train Epoch: 7 [0/50000 (0%)]\tAverage loss: 0.896340, Accuracy: 0.656250\n",
      "Train Epoch: 7 [12800/50000 (26%)]\tAverage loss: 1.021964, Accuracy: 0.640159\n",
      "Train Epoch: 7 [25600/50000 (51%)]\tAverage loss: 1.026927, Accuracy: 0.641209\n",
      "Train Epoch: 7 [38400/50000 (77%)]\tAverage loss: 1.024023, Accuracy: 0.641717\n",
      "\n",
      "Test set: Average loss: 1.2765, Accuracy: 0.566500\n",
      "\n",
      "Train Epoch: 8 [0/50000 (0%)]\tAverage loss: 1.360762, Accuracy: 0.515625\n",
      "Train Epoch: 8 [12800/50000 (26%)]\tAverage loss: 0.996260, Accuracy: 0.651586\n",
      "Train Epoch: 8 [25600/50000 (51%)]\tAverage loss: 0.987663, Accuracy: 0.653795\n",
      "Train Epoch: 8 [38400/50000 (77%)]\tAverage loss: 0.987180, Accuracy: 0.654170\n",
      "\n",
      "Test set: Average loss: 1.1054, Accuracy: 0.611700\n",
      "\n",
      "Train Epoch: 9 [0/50000 (0%)]\tAverage loss: 1.012650, Accuracy: 0.656250\n",
      "Train Epoch: 9 [12800/50000 (26%)]\tAverage loss: 0.953668, Accuracy: 0.664179\n",
      "Train Epoch: 9 [25600/50000 (51%)]\tAverage loss: 0.952786, Accuracy: 0.664277\n",
      "Train Epoch: 9 [38400/50000 (77%)]\tAverage loss: 0.957644, Accuracy: 0.661398\n",
      "\n",
      "Test set: Average loss: 1.0367, Accuracy: 0.631500\n",
      "\n",
      "# save model: cifar10_cnn_model_best_acc_9-epoch.pt\n",
      "\n",
      "Train Epoch: 10 [0/50000 (0%)]\tAverage loss: 1.051965, Accuracy: 0.671875\n",
      "Train Epoch: 10 [12800/50000 (26%)]\tAverage loss: 0.932281, Accuracy: 0.670709\n",
      "Train Epoch: 10 [25600/50000 (51%)]\tAverage loss: 0.933796, Accuracy: 0.669732\n",
      "Train Epoch: 10 [38400/50000 (77%)]\tAverage loss: 0.936108, Accuracy: 0.670341\n",
      "\n",
      "Test set: Average loss: 1.2723, Accuracy: 0.566900\n",
      "\n",
      "\n",
      "\n",
      "# Best accuracy model(63.15%): cifar10_cnn_model_best_acc_9-epoch.pt\n",
      "\n"
     ]
    }
   ],
   "source": [
    "best_acc = 0\n",
    "best_epoch = 0\n",
    "for epoch in range(1, max_epochs+1):\n",
    "    train_loss, train_acc = train(log_interval, model, device, train_loader, optimizer, epoch)\n",
    "    test_loss, test_acc = test(log_interval, model, device, test_loader)\n",
    "\n",
    "    # 테스트에서 best accuracy 달성하면 모델 저장\n",
    "    if test_acc > best_acc:\n",
    "        best_acc = test_acc\n",
    "        best_epoch = epoch\n",
    "        torch.save(model, os.path.join(workspace_path, f'cifar10_cnn_model_best_acc_{best_epoch}-epoch.pt'))\n",
    "        print(f'# save model: cifar10_cnn_model_best_acc_{best_epoch}-epoch.pt\\n')\n",
    "\n",
    "print(f'\\n\\n# Best accuracy model({best_acc * 100:.2f}%): cifar10_cnn_model_best_acc_{best_epoch}-epoch.pt\\n')"
   ]
  },
  {
   "cell_type": "markdown",
   "metadata": {
    "id": "NehELX9K0971"
   },
   "source": [
    "# **Baseline 보다 성능 높이기**"
   ]
  },
  {
   "cell_type": "code",
   "execution_count": null,
   "metadata": {
    "colab": {
     "base_uri": "https://localhost:8080/"
    },
    "id": "HxIBnebD1FuV",
    "outputId": "91f2511b-2731-4979-b282-4b6e26034d18"
   },
   "outputs": [
    {
     "name": "stdout",
     "output_type": "stream",
     "text": [
      "init model done\n"
     ]
    }
   ],
   "source": [
    "class Net(nn.Module):\n",
    "  def __init__(self):\n",
    "    super(Net, self).__init__()\n",
    "    self.main = nn.Sequential(\n",
    "        nn.Conv2d(in_channels=3, out_channels=10,kernel_size=3,stride=1, padding=1, bias=False), nn.BatchNorm2d(10), nn.ReLU(inplace=True),\n",
    "        nn.Conv2d(in_channels=10, out_channels=20, kernel_size=3,stride=1, padding=1, bias=False), nn.BatchNorm2d(20), nn.ReLU(inplace=True), nn.MaxPool2d(kernel_size=2),\n",
    "        nn.Conv2d(in_channels=20, out_channels=40, kernel_size=3, stride=1, padding=1, bias=False), nn.BatchNorm2d(40), nn.ReLU(inplace=True), nn.MaxPool2d(kernel_size=2),\n",
    "        nn.Conv2d(in_channels=40, out_channels=80, kernel_size=3, stride=1, padding=1, bias=False), nn.BatchNorm2d(80), nn.AdaptiveAvgPool2d(1)\n",
    "    )\n",
    "    self.fc = nn.Linear(80,10)\n",
    "  \n",
    "  def forward(self, x):\n",
    "        x = x.float()\n",
    "        x = x.view(-1, 3, 32, 32) \n",
    "        x = self.main(x) \n",
    "        x = x.view(-1, 80) \n",
    "        x = self.fc(x)\n",
    "        return x\n",
    "\n",
    "print(\"init model done\")"
   ]
  },
  {
   "cell_type": "code",
   "execution_count": null,
   "metadata": {
    "colab": {
     "base_uri": "https://localhost:8080/"
    },
    "id": "bFQdHzr81LmT",
    "outputId": "31e289f9-a681-429b-c139-bcb94564aead"
   },
   "outputs": [
    {
     "name": "stdout",
     "output_type": "stream",
     "text": [
      "set vars and device done\n"
     ]
    }
   ],
   "source": [
    "batch_size = 128 # 64 -> 128로 변경  \n",
    "test_batch_size = 1000  \n",
    "max_epochs = 10 \n",
    "lr = 0.09 # 0.01에서 0.09로 learning rate 설정\n",
    "momentum = 0.5 \n",
    "log_interval = 200 \n",
    "\n",
    "use_cuda = torch.cuda.is_available() \n",
    "\n",
    "device = torch.device(\"cuda\" if use_cuda else \"cpu\") \n",
    "\n",
    "kwargs = {'num_workers': 1, 'pin_memory': True} if use_cuda else {}  \n",
    "\n",
    "print(\"set vars and device done\")"
   ]
  },
  {
   "cell_type": "code",
   "execution_count": null,
   "metadata": {
    "colab": {
     "base_uri": "https://localhost:8080/"
    },
    "id": "KZBmAcIq1MTt",
    "outputId": "3dce99d7-5c44-49de-e711-b997004f90ca"
   },
   "outputs": [
    {
     "name": "stdout",
     "output_type": "stream",
     "text": [
      "Files already downloaded and verified\n",
      "Files already downloaded and verified\n"
     ]
    }
   ],
   "source": [
    "transform = transforms.Compose([\n",
    "                 transforms.ToTensor(),\n",
    "                 transforms.Normalize((0.5, 0.5, 0.5), (0.5, 0.5, 0.5))])\n",
    "\n",
    "\n",
    "train_loader = torch.utils.data.DataLoader(\n",
    "  datasets.CIFAR10(os.path.join(workspace_path, 'data'), train=True, download=True, \n",
    "                   transform=transform), \n",
    "    batch_size = batch_size, shuffle=True, drop_last=True, **kwargs)\n",
    "\n",
    "\n",
    "test_loader = torch.utils.data.DataLoader(\n",
    "        datasets.CIFAR10(os.path.join(workspace_path, 'data'), train=False, download=True,\n",
    "                         transform=transform), \n",
    "    batch_size=test_batch_size, shuffle=False, **kwargs)"
   ]
  },
  {
   "cell_type": "code",
   "execution_count": null,
   "metadata": {
    "id": "7mV5Y2_r1hB2"
   },
   "outputs": [],
   "source": [
    "model = Net().to(device)\n",
    "optimizer = optim.SGD(model.parameters(), lr=lr, momentum=momentum)\n",
    "criterion = nn.CrossEntropyLoss()"
   ]
  },
  {
   "cell_type": "code",
   "execution_count": null,
   "metadata": {
    "id": "4RmqsB0W1kVe"
   },
   "outputs": [],
   "source": [
    "class AverageMeter(object):\n",
    "    \"\"\"Computes and stores the average and current value\"\"\"\n",
    "    def __init__(self):\n",
    "        self.reset()\n",
    "\n",
    "    def reset(self):\n",
    "        self.val = 0\n",
    "        self.avg = 0\n",
    "        self.sum = 0\n",
    "        self.count = 0\n",
    "\n",
    "    def update(self, val, n=1):\n",
    "        self.val = val\n",
    "        self.sum += val * n\n",
    "        self.count += n\n",
    "        self.avg = self.sum / self.count"
   ]
  },
  {
   "cell_type": "code",
   "execution_count": null,
   "metadata": {
    "id": "tPv-OZ4Y1sGH"
   },
   "outputs": [],
   "source": [
    "def train(log_interval, model, device, train_loader, optimizer, epoch):\n",
    "    model.train()\n",
    "    summary_loss = AverageMeter()\n",
    "    summary_acc = AverageMeter()\n",
    "    for batch_idx, (data, target) in enumerate(train_loader):\n",
    "        data, target = data.to(device), target.to(device)\n",
    "        optimizer.zero_grad()\n",
    "        output = model(data)\n",
    "        loss = criterion(output, target)\n",
    "        loss.backward()\n",
    "        optimizer.step()\n",
    "        summary_loss.update(loss.detach().item())\n",
    "        pred = output.argmax(dim=1, keepdim=True)\n",
    "        correct = pred.eq(target.view_as(pred)).sum().item()\n",
    "        summary_acc.update(correct / data.size(0))\n",
    "        if batch_idx % log_interval == 0:\n",
    "            print('Train Epoch: {} [{}/{} ({:.0f}%)]\\tAverage loss: {:.6f}, Accuracy: {:.6f}'.format(\n",
    "                epoch, batch_idx * len(data), len(train_loader.dataset),\n",
    "                100. * batch_idx / len(train_loader), summary_loss.avg, summary_acc.avg))\n",
    "            \n",
    "    return summary_loss.avg, summary_acc.avg\n",
    "\n",
    "def test(log_interval, model, device, test_loader):\n",
    "    model.eval()\n",
    "    summary_loss = AverageMeter()\n",
    "    summary_acc = AverageMeter()\n",
    "    with torch.no_grad():\n",
    "        for data, target in test_loader:\n",
    "            data, target = data.to(device), target.to(device)\n",
    "            output = model(data)\n",
    "            loss = criterion(output, target)\n",
    "            summary_loss.update(loss.detach().item())\n",
    "            pred = output.argmax(dim=1, keepdim=True)\n",
    "            correct = pred.eq(target.view_as(pred)).sum().item()\n",
    "            summary_acc.update(correct / data.size(0))\n",
    "\n",
    "    print('\\nTest set: Average loss: {:.4f}, Accuracy: {:.6f}\\n'.format\n",
    "          (summary_loss.avg, summary_acc.avg))\n",
    "\n",
    "    return summary_loss.avg, summary_acc.avg"
   ]
  },
  {
   "cell_type": "code",
   "execution_count": null,
   "metadata": {
    "colab": {
     "base_uri": "https://localhost:8080/"
    },
    "id": "G_18HbII1vdk",
    "outputId": "e27b00e6-8b5d-41cc-9119-80bc8ea9ced1"
   },
   "outputs": [
    {
     "name": "stdout",
     "output_type": "stream",
     "text": [
      "Train Epoch: 1 [0/50000 (0%)]\tAverage loss: 2.351274, Accuracy: 0.093750\n",
      "Train Epoch: 1 [12800/50000 (26%)]\tAverage loss: 1.687675, Accuracy: 0.372046\n",
      "Train Epoch: 1 [25600/50000 (51%)]\tAverage loss: 1.565144, Accuracy: 0.426979\n",
      "Train Epoch: 1 [38400/50000 (77%)]\tAverage loss: 1.480074, Accuracy: 0.459703\n",
      "\n",
      "Test set: Average loss: 1.5235, Accuracy: 0.472100\n",
      "\n",
      "# save model: cifar10_cnn_model_best_acc_1-epoch.pt\n",
      "\n",
      "Train Epoch: 2 [0/50000 (0%)]\tAverage loss: 1.228828, Accuracy: 0.609375\n",
      "Train Epoch: 2 [12800/50000 (26%)]\tAverage loss: 1.184344, Accuracy: 0.578436\n",
      "Train Epoch: 2 [25600/50000 (51%)]\tAverage loss: 1.171883, Accuracy: 0.583346\n",
      "Train Epoch: 2 [38400/50000 (77%)]\tAverage loss: 1.158183, Accuracy: 0.587796\n",
      "\n",
      "Test set: Average loss: 1.3975, Accuracy: 0.513700\n",
      "\n",
      "# save model: cifar10_cnn_model_best_acc_2-epoch.pt\n",
      "\n",
      "Train Epoch: 3 [0/50000 (0%)]\tAverage loss: 1.207724, Accuracy: 0.609375\n",
      "Train Epoch: 3 [12800/50000 (26%)]\tAverage loss: 1.071397, Accuracy: 0.624456\n",
      "Train Epoch: 3 [25600/50000 (51%)]\tAverage loss: 1.058414, Accuracy: 0.627065\n",
      "Train Epoch: 3 [38400/50000 (77%)]\tAverage loss: 1.047560, Accuracy: 0.632384\n",
      "\n",
      "Test set: Average loss: 1.1282, Accuracy: 0.589900\n",
      "\n",
      "# save model: cifar10_cnn_model_best_acc_3-epoch.pt\n",
      "\n",
      "Train Epoch: 4 [0/50000 (0%)]\tAverage loss: 0.860729, Accuracy: 0.703125\n",
      "Train Epoch: 4 [12800/50000 (26%)]\tAverage loss: 0.985018, Accuracy: 0.653296\n",
      "Train Epoch: 4 [25600/50000 (51%)]\tAverage loss: 0.991485, Accuracy: 0.652120\n",
      "Train Epoch: 4 [38400/50000 (77%)]\tAverage loss: 0.985549, Accuracy: 0.652454\n",
      "\n",
      "Test set: Average loss: 1.2701, Accuracy: 0.569400\n",
      "\n",
      "Train Epoch: 5 [0/50000 (0%)]\tAverage loss: 0.747800, Accuracy: 0.718750\n",
      "Train Epoch: 5 [12800/50000 (26%)]\tAverage loss: 0.932898, Accuracy: 0.671098\n",
      "Train Epoch: 5 [25600/50000 (51%)]\tAverage loss: 0.938835, Accuracy: 0.669031\n",
      "Train Epoch: 5 [38400/50000 (77%)]\tAverage loss: 0.937520, Accuracy: 0.668521\n",
      "\n",
      "Test set: Average loss: 1.0400, Accuracy: 0.635800\n",
      "\n",
      "# save model: cifar10_cnn_model_best_acc_5-epoch.pt\n",
      "\n",
      "Train Epoch: 6 [0/50000 (0%)]\tAverage loss: 0.835667, Accuracy: 0.734375\n",
      "Train Epoch: 6 [12800/50000 (26%)]\tAverage loss: 0.882558, Accuracy: 0.684701\n",
      "Train Epoch: 6 [25600/50000 (51%)]\tAverage loss: 0.895266, Accuracy: 0.680019\n",
      "Train Epoch: 6 [38400/50000 (77%)]\tAverage loss: 0.902546, Accuracy: 0.678973\n",
      "\n",
      "Test set: Average loss: 1.3155, Accuracy: 0.553400\n",
      "\n",
      "Train Epoch: 7 [0/50000 (0%)]\tAverage loss: 0.984598, Accuracy: 0.703125\n",
      "Train Epoch: 7 [12800/50000 (26%)]\tAverage loss: 0.871491, Accuracy: 0.697917\n",
      "Train Epoch: 7 [25600/50000 (51%)]\tAverage loss: 0.869408, Accuracy: 0.698488\n",
      "Train Epoch: 7 [38400/50000 (77%)]\tAverage loss: 0.870702, Accuracy: 0.695637\n",
      "\n",
      "Test set: Average loss: 0.9621, Accuracy: 0.654500\n",
      "\n",
      "# save model: cifar10_cnn_model_best_acc_7-epoch.pt\n",
      "\n",
      "Train Epoch: 8 [0/50000 (0%)]\tAverage loss: 0.738646, Accuracy: 0.718750\n",
      "Train Epoch: 8 [12800/50000 (26%)]\tAverage loss: 0.848953, Accuracy: 0.702581\n",
      "Train Epoch: 8 [25600/50000 (51%)]\tAverage loss: 0.844604, Accuracy: 0.703515\n",
      "Train Epoch: 8 [38400/50000 (77%)]\tAverage loss: 0.850601, Accuracy: 0.701513\n",
      "\n",
      "Test set: Average loss: 1.0769, Accuracy: 0.623100\n",
      "\n",
      "Train Epoch: 9 [0/50000 (0%)]\tAverage loss: 0.571487, Accuracy: 0.796875\n",
      "Train Epoch: 9 [12800/50000 (26%)]\tAverage loss: 0.838034, Accuracy: 0.706623\n",
      "Train Epoch: 9 [25600/50000 (51%)]\tAverage loss: 0.832235, Accuracy: 0.709476\n",
      "Train Epoch: 9 [38400/50000 (77%)]\tAverage loss: 0.832249, Accuracy: 0.709001\n",
      "\n",
      "Test set: Average loss: 1.1052, Accuracy: 0.617000\n",
      "\n",
      "Train Epoch: 10 [0/50000 (0%)]\tAverage loss: 0.733376, Accuracy: 0.734375\n",
      "Train Epoch: 10 [12800/50000 (26%)]\tAverage loss: 0.813618, Accuracy: 0.711443\n",
      "Train Epoch: 10 [25600/50000 (51%)]\tAverage loss: 0.809405, Accuracy: 0.713568\n",
      "Train Epoch: 10 [38400/50000 (77%)]\tAverage loss: 0.809637, Accuracy: 0.713862\n",
      "\n",
      "Test set: Average loss: 0.9446, Accuracy: 0.671600\n",
      "\n",
      "# save model: cifar10_cnn_model_best_acc_10-epoch.pt\n",
      "\n",
      "\n",
      "\n",
      "# Best accuracy model(67.16%): cifar10_cnn_model_best_acc_10-epoch.pt\n",
      "\n"
     ]
    }
   ],
   "source": [
    "best_acc = 0\n",
    "best_epoch = 0\n",
    "for epoch in range(1, max_epochs+1):\n",
    "    train_loss, train_acc = train(log_interval, model, device, train_loader, optimizer, epoch)\n",
    "    test_loss, test_acc = test(log_interval, model, device, test_loader)\n",
    "\n",
    "    # 테스트에서 best accuracy 달성하면 모델 저장\n",
    "    if test_acc > best_acc:\n",
    "        best_acc = test_acc\n",
    "        best_epoch = epoch\n",
    "        torch.save(model, os.path.join(workspace_path, f'cifar10_cnn_model_best_acc_{best_epoch}-epoch.pt'))\n",
    "        print(f'# save model: cifar10_cnn_model_best_acc_{best_epoch}-epoch.pt\\n')\n",
    "\n",
    "print(f'\\n\\n# Best accuracy model({best_acc * 100:.2f}%): cifar10_cnn_model_best_acc_{best_epoch}-epoch.pt\\n')"
   ]
  },
  {
   "cell_type": "code",
   "execution_count": null,
   "metadata": {
    "id": "Xrri0CdB4V2e"
   },
   "outputs": [],
   "source": []
  },
  {
   "cell_type": "markdown",
   "metadata": {
    "id": "Q_XuOLHo5Ziz"
   },
   "source": [
    "**개선 모델 성능**\n",
    "\n",
    "\n",
    "1. lr = 0.05 설정 시\n",
    "    \n",
    "    63.9% 로 증가\n",
    "\n",
    "2. batch_size = 128, lr = 0.09 로 설정 시\n",
    "\n",
    "    67.16% 로 증가"
   ]
  },
  {
   "cell_type": "markdown",
   "metadata": {
    "id": "11QAmbid6BDU"
   },
   "source": [
    "**개선 아이디어 설명**\n",
    "\n",
    "learning rate를 처음부터 크게 설정하면 학습이 잘되지 않아 0.01 -> 0.05 -> 0.09로 올렸고\n",
    "배치 사이즈를 키우면 SGD 값은 동일하지만 노이즈가 감소합니다."
   ]
  },
  {
   "cell_type": "code",
   "execution_count": null,
   "metadata": {
    "id": "sGdVZglY6pV0"
   },
   "outputs": [],
   "source": []
  }
 ],
 "metadata": {
  "accelerator": "GPU",
  "colab": {
   "collapsed_sections": [],
   "name": "CVG_과제5_30201062_박용현.ipynb",
   "provenance": []
  },
  "kernelspec": {
   "display_name": "Python 3",
   "language": "python",
   "name": "python3"
  },
  "language_info": {
   "codemirror_mode": {
    "name": "ipython",
    "version": 3
   },
   "file_extension": ".py",
   "mimetype": "text/x-python",
   "name": "python",
   "nbconvert_exporter": "python",
   "pygments_lexer": "ipython3",
   "version": "3.8.5"
  },
  "toc": {
   "base_numbering": 1,
   "nav_menu": {},
   "number_sections": true,
   "sideBar": true,
   "skip_h1_title": false,
   "title_cell": "Table of Contents",
   "title_sidebar": "Contents",
   "toc_cell": false,
   "toc_position": {},
   "toc_section_display": true,
   "toc_window_display": false
  },
  "varInspector": {
   "cols": {
    "lenName": 16,
    "lenType": 16,
    "lenVar": 40
   },
   "kernels_config": {
    "python": {
     "delete_cmd_postfix": "",
     "delete_cmd_prefix": "del ",
     "library": "var_list.py",
     "varRefreshCmd": "print(var_dic_list())"
    },
    "r": {
     "delete_cmd_postfix": ") ",
     "delete_cmd_prefix": "rm(",
     "library": "var_list.r",
     "varRefreshCmd": "cat(var_dic_list()) "
    }
   },
   "types_to_exclude": [
    "module",
    "function",
    "builtin_function_or_method",
    "instance",
    "_Feature"
   ],
   "window_display": false
  }
 },
 "nbformat": 4,
 "nbformat_minor": 1
}
